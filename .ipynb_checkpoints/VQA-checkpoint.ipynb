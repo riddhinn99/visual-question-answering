{
 "cells": [
  {
   "cell_type": "markdown",
   "metadata": {
    "colab_type": "text",
    "id": "view-in-github"
   },
   "source": [
    "<a href=\"https://colab.research.google.com/github/gowthambalachandhiran/VisualQuestionAnswering/blob/master/VQA.ipynb\" target=\"_parent\"><img src=\"https://colab.research.google.com/assets/colab-badge.svg\" alt=\"Open In Colab\"/></a>"
   ]
  },
  {
   "cell_type": "markdown",
   "metadata": {
    "colab_type": "text",
    "id": "5fCEDCU_qrC0"
   },
   "source": [
    "<p><img alt=\"Colaboratory logo\" height=\"45px\" src=\"/img/colab_favicon.ico\" align=\"left\" hspace=\"10px\" vspace=\"0px\"></p>\n",
    "\n",
    "<h1>Welcome to Colaboratory!</h1>\n",
    "\n",
    "\n",
    "Colaboratory is a free Jupyter notebook environment that requires no setup and runs entirely in the cloud.\n",
    "\n",
    "With Colaboratory you can write and execute code, save and share your analyses, and access powerful computing resources, all for free from your browser."
   ]
  },
  {
   "cell_type": "code",
   "execution_count": 0,
   "metadata": {
    "colab": {
     "height": 420
    },
    "colab_type": "code",
    "id": "xitplqMNk_Hc",
    "outputId": "ed4f60d2-878d-4056-c438-352dac39a112"
   },
   "outputs": [
    {
     "data": {
      "text/html": [
       "\n",
       "        <iframe\n",
       "            width=\"600\"\n",
       "            height=\"400\"\n",
       "            src=\"https://www.youtube.com/embed/inN8seMm7UI\"\n",
       "            frameborder=\"0\"\n",
       "            allowfullscreen\n",
       "        ></iframe>\n",
       "        "
      ],
      "text/plain": [
       "<IPython.lib.display.YouTubeVideo at 0x7f956e9dda50>"
      ]
     },
     "execution_count": 0,
     "metadata": {
      "tags": []
     },
     "output_type": "execute_result"
    }
   ],
   "source": [
    "#@title Introducing Colaboratory { display-mode: \"form\" }\n",
    "#@markdown This 3-minute video gives an overview of the key features of Colaboratory:\n",
    "from IPython.display import YouTubeVideo\n",
    "YouTubeVideo('inN8seMm7UI', width=600, height=400)"
   ]
  },
  {
   "cell_type": "markdown",
   "metadata": {
    "colab_type": "text",
    "id": "GJBs_flRovLc"
   },
   "source": [
    "## Getting Started\n",
    "\n",
    "The document you are reading is a  [Jupyter notebook](https://jupyter.org/), hosted in Colaboratory. It is not a static page, but an interactive environment that lets you write and execute code in Python and other languages.\n",
    "\n",
    "For example, here is a **code cell** with a short Python script that computes a value, stores it in a variable, and prints the result:"
   ]
  },
  {
   "cell_type": "code",
   "execution_count": 0,
   "metadata": {
    "colab": {
     "height": 35
    },
    "colab_type": "code",
    "id": "gJr_9dXGpJ05",
    "outputId": "5626194c-e802-4293-942d-2908885c3c1f"
   },
   "outputs": [
    {
     "data": {
      "text/plain": [
       "86400"
      ]
     },
     "execution_count": 0,
     "metadata": {
      "tags": []
     },
     "output_type": "execute_result"
    }
   ],
   "source": [
    "seconds_in_a_day = 24 * 60 * 60\n",
    "seconds_in_a_day"
   ]
  },
  {
   "cell_type": "markdown",
   "metadata": {
    "colab_type": "text",
    "id": "2fhs6GZ4qFMx"
   },
   "source": [
    "To execute the code in the above cell, select it with a click and then either press the play button to the left of the code, or use the keyboard shortcut \"Command/Ctrl+Enter\".\n",
    "\n",
    "All cells modify the same global state, so variables that you define by executing a cell can be used in other cells:"
   ]
  },
  {
   "cell_type": "code",
   "execution_count": 0,
   "metadata": {
    "colab": {
     "height": 35
    },
    "colab_type": "code",
    "id": "-gE-Ez1qtyIA",
    "outputId": "8d2e4259-4682-4e19-b683-7b9087f28820"
   },
   "outputs": [
    {
     "data": {
      "text/plain": [
       "604800"
      ]
     },
     "execution_count": 0,
     "metadata": {
      "tags": []
     },
     "output_type": "execute_result"
    }
   ],
   "source": [
    "seconds_in_a_week = 7 * seconds_in_a_day\n",
    "seconds_in_a_week"
   ]
  },
  {
   "cell_type": "markdown",
   "metadata": {
    "colab_type": "text",
    "id": "lSrWNr3MuFUS"
   },
   "source": [
    "For more information about working with Colaboratory notebooks, see [Overview of Colaboratory](/notebooks/basic_features_overview.ipynb).\n"
   ]
  },
  {
   "cell_type": "markdown",
   "metadata": {
    "colab_type": "text",
    "id": "-Rh3-Vt9Nev9"
   },
   "source": [
    "## More Resources\n",
    "\n",
    "Learn how to make the most of Python, Jupyter, Colaboratory, and related tools with these resources:\n",
    "\n",
    "### Working with Notebooks in Colaboratory\n",
    "- [Overview of Colaboratory](/notebooks/basic_features_overview.ipynb)\n",
    "- [Guide to Markdown](/notebooks/markdown_guide.ipynb)\n",
    "- [Importing libraries and installing dependencies](/notebooks/snippets/importing_libraries.ipynb)\n",
    "- [Saving and loading notebooks in GitHub](https://colab.research.google.com/github/googlecolab/colabtools/blob/master/notebooks/colab-github-demo.ipynb)\n",
    "- [Interactive forms](/notebooks/forms.ipynb)\n",
    "- [Interactive widgets](/notebooks/widgets.ipynb)\n",
    "- <img src=\"/img/new.png\" height=\"20px\" align=\"left\" hspace=\"4px\" alt=\"New\"></img>\n",
    " [TensorFlow 2 in Colab](/notebooks/tensorflow_version.ipynb)\n",
    "\n",
    "### Working with Data\n",
    "- [Loading data: Drive, Sheets, and Google Cloud Storage](/notebooks/io.ipynb) \n",
    "- [Charts: visualizing data](/notebooks/charts.ipynb)\n",
    "- [Getting started with BigQuery](/notebooks/bigquery.ipynb)\n",
    "\n",
    "### Machine Learning Crash Course\n",
    "These are a few of the notebooks from Google's online Machine Learning course. See the [full course website](https://developers.google.com/machine-learning/crash-course/) for more.\n",
    "- [Intro to Pandas](/notebooks/mlcc/intro_to_pandas.ipynb)\n",
    "- [Tensorflow concepts](/notebooks/mlcc/tensorflow_programming_concepts.ipynb)\n",
    "- [First steps with TensorFlow](/notebooks/mlcc/first_steps_with_tensor_flow.ipynb)\n",
    "- [Intro to neural nets](/notebooks/mlcc/intro_to_neural_nets.ipynb)\n",
    "- [Intro to sparse data and embeddings](/notebooks/mlcc/intro_to_sparse_data_and_embeddings.ipynb)\n",
    "\n",
    "### Using Accelerated Hardware\n",
    "- [TensorFlow with GPUs](/notebooks/gpu.ipynb)\n",
    "- [TensorFlow with TPUs](/notebooks/tpu.ipynb)"
   ]
  },
  {
   "cell_type": "markdown",
   "metadata": {
    "colab_type": "text",
    "id": "P-H6Lw1vyNNd"
   },
   "source": [
    "## Machine Learning Examples: Seedbank\n",
    "\n",
    "To see end-to-end examples of the interactive machine learning analyses that Colaboratory makes possible, check out the [Seedbank](https://research.google.com/seedbank/) project.\n",
    "\n",
    "A few featured examples:\n",
    "\n",
    "- [Neural Style Transfer](https://research.google.com/seedbank/seed/neural_style_transfer_with_tfkeras): Use deep learning to transfer style between images.\n",
    "- [EZ NSynth](https://research.google.com/seedbank/seed/ez_nsynth): Synthesize audio with WaveNet auto-encoders.\n",
    "- [Fashion MNIST with Keras and TPUs](https://research.google.com/seedbank/seed/fashion_mnist_with_keras_and_tpus): Classify fashion-related images with deep learning.\n",
    "- [DeepDream](https://research.google.com/seedbank/seed/deepdream): Produce DeepDream images from your own photos.\n",
    "- [Convolutional VAE](https://research.google.com/seedbank/seed/convolutional_vae): Create a generative model of handwritten digits."
   ]
  },
  {
   "cell_type": "code",
   "execution_count": 3,
   "metadata": {
    "colab": {
     "base_uri": "https://localhost:8080/",
     "height": 343
    },
    "colab_type": "code",
    "id": "QUhG3OjdTzMX",
    "outputId": "c400411f-3099-4a09-b9f8-98b72cd92cd9"
   },
   "outputs": [
    {
     "name": "stdout",
     "output_type": "stream",
     "text": [
      "Collecting keras==2.1.0\n",
      "\u001b[?25l  Downloading https://files.pythonhosted.org/packages/bf/c2/b0c2ece713e754d1692aa432ad682751cd1ad6abf7500a534558b1fbfbe7/Keras-2.1.0-py2.py3-none-any.whl (302kB)\n",
      "\r",
      "\u001b[K     |█                               | 10kB 15.0MB/s eta 0:00:01\r",
      "\u001b[K     |██▏                             | 20kB 3.3MB/s eta 0:00:01\r",
      "\u001b[K     |███▎                            | 30kB 4.7MB/s eta 0:00:01\r",
      "\u001b[K     |████▍                           | 40kB 3.1MB/s eta 0:00:01\r",
      "\u001b[K     |█████▍                          | 51kB 3.7MB/s eta 0:00:01\r",
      "\u001b[K     |██████▌                         | 61kB 4.5MB/s eta 0:00:01\r",
      "\u001b[K     |███████▋                        | 71kB 5.1MB/s eta 0:00:01\r",
      "\u001b[K     |████████▊                       | 81kB 5.8MB/s eta 0:00:01\r",
      "\u001b[K     |█████████▊                      | 92kB 6.5MB/s eta 0:00:01\r",
      "\u001b[K     |██████████▉                     | 102kB 4.9MB/s eta 0:00:01\r",
      "\u001b[K     |████████████                    | 112kB 4.9MB/s eta 0:00:01\r",
      "\u001b[K     |█████████████                   | 122kB 4.9MB/s eta 0:00:01\r",
      "\u001b[K     |██████████████                  | 133kB 4.9MB/s eta 0:00:01\r",
      "\u001b[K     |███████████████▏                | 143kB 4.9MB/s eta 0:00:01\r",
      "\u001b[K     |████████████████▎               | 153kB 4.9MB/s eta 0:00:01\r",
      "\u001b[K     |█████████████████▍              | 163kB 4.9MB/s eta 0:00:01\r",
      "\u001b[K     |██████████████████▍             | 174kB 4.9MB/s eta 0:00:01\r",
      "\u001b[K     |███████████████████▌            | 184kB 4.9MB/s eta 0:00:01\r",
      "\u001b[K     |████████████████████▋           | 194kB 4.9MB/s eta 0:00:01\r",
      "\u001b[K     |█████████████████████▊          | 204kB 4.9MB/s eta 0:00:01\r",
      "\u001b[K     |██████████████████████▊         | 215kB 4.9MB/s eta 0:00:01\r",
      "\u001b[K     |███████████████████████▉        | 225kB 4.9MB/s eta 0:00:01\r",
      "\u001b[K     |█████████████████████████       | 235kB 4.9MB/s eta 0:00:01\r",
      "\u001b[K     |██████████████████████████      | 245kB 4.9MB/s eta 0:00:01\r",
      "\u001b[K     |███████████████████████████     | 256kB 4.9MB/s eta 0:00:01\r",
      "\u001b[K     |████████████████████████████▏   | 266kB 4.9MB/s eta 0:00:01\r",
      "\u001b[K     |█████████████████████████████▎  | 276kB 4.9MB/s eta 0:00:01\r",
      "\u001b[K     |██████████████████████████████▍ | 286kB 4.9MB/s eta 0:00:01\r",
      "\u001b[K     |███████████████████████████████▍| 296kB 4.9MB/s eta 0:00:01\r",
      "\u001b[K     |████████████████████████████████| 307kB 4.9MB/s \n",
      "\u001b[?25hRequirement already satisfied: scipy>=0.14 in /usr/local/lib/python3.6/dist-packages (from keras==2.1.0) (1.3.3)\n",
      "Requirement already satisfied: pyyaml in /usr/local/lib/python3.6/dist-packages (from keras==2.1.0) (3.13)\n",
      "Requirement already satisfied: six>=1.9.0 in /usr/local/lib/python3.6/dist-packages (from keras==2.1.0) (1.12.0)\n",
      "Requirement already satisfied: numpy>=1.9.1 in /usr/local/lib/python3.6/dist-packages (from keras==2.1.0) (1.17.4)\n",
      "\u001b[31mERROR: textgenrnn 1.4.1 has requirement keras>=2.1.5, but you'll have keras 2.1.0 which is incompatible.\u001b[0m\n",
      "Installing collected packages: keras\n",
      "  Found existing installation: Keras 2.2.5\n",
      "    Uninstalling Keras-2.2.5:\n",
      "      Successfully uninstalled Keras-2.2.5\n",
      "Successfully installed keras-2.1.0\n"
     ]
    },
    {
     "data": {
      "application/vnd.colab-display-data+json": {
       "pip_warning": {
        "packages": [
         "keras"
        ]
       }
      }
     },
     "metadata": {
      "tags": []
     },
     "output_type": "display_data"
    }
   ],
   "source": [
    "\n",
    "!pip install keras==2.1.0"
   ]
  },
  {
   "cell_type": "code",
   "execution_count": 0,
   "metadata": {
    "colab": {},
    "colab_type": "code",
    "id": "YeHVbiB_T0PF"
   },
   "outputs": [],
   "source": [
    "%matplotlib inline\n",
    "import warnings\n",
    "warnings.filterwarnings(\"ignore\")\n",
    "import keras\n",
    "import os, argparse\n",
    "import cv2, spacy, numpy as np\n",
    "from keras.layers import Input, LSTM, Embedding, Dense\n",
    "from keras.applications.vgg16 import VGG16\n",
    "from keras.models import model_from_json\n",
    "from keras.optimizers import SGD\n",
    "from sklearn.externals import joblib\n",
    "from keras import backend as K\n",
    "from keras.utils.vis_utils import plot_model\n",
    "K.set_image_data_format('channels_first')\n",
    "import csv"
   ]
  },
  {
   "cell_type": "code",
   "execution_count": 0,
   "metadata": {
    "colab": {},
    "colab_type": "code",
    "id": "QpJfqAWPUAEX"
   },
   "outputs": [],
   "source": [
    "from keras.preprocessing import image\n",
    "from keras.applications import vgg16\n",
    "from keras.models import Model"
   ]
  },
  {
   "cell_type": "code",
   "execution_count": 3,
   "metadata": {
    "colab": {
     "base_uri": "https://localhost:8080/",
     "height": 462
    },
    "colab_type": "code",
    "id": "oZo_FxFxT3gx",
    "outputId": "9eae4a34-b6f3-492e-e3f8-d8cd827ce0e6"
   },
   "outputs": [
    {
     "name": "stdout",
     "output_type": "stream",
     "text": [
      "WARNING:tensorflow:From /usr/local/lib/python3.6/dist-packages/keras/backend/tensorflow_backend.py:63: The name tf.get_default_graph is deprecated. Please use tf.compat.v1.get_default_graph instead.\n",
      "\n",
      "WARNING:tensorflow:From /usr/local/lib/python3.6/dist-packages/keras/backend/tensorflow_backend.py:492: The name tf.placeholder is deprecated. Please use tf.compat.v1.placeholder instead.\n",
      "\n",
      "WARNING:tensorflow:From /usr/local/lib/python3.6/dist-packages/keras/backend/tensorflow_backend.py:3630: The name tf.random_uniform is deprecated. Please use tf.random.uniform instead.\n",
      "\n",
      "WARNING:tensorflow:From /usr/local/lib/python3.6/dist-packages/keras/backend/tensorflow_backend.py:158: The name tf.get_default_session is deprecated. Please use tf.compat.v1.get_default_session instead.\n",
      "\n",
      "WARNING:tensorflow:From /usr/local/lib/python3.6/dist-packages/keras/backend/tensorflow_backend.py:163: The name tf.ConfigProto is deprecated. Please use tf.compat.v1.ConfigProto instead.\n",
      "\n",
      "WARNING:tensorflow:From /usr/local/lib/python3.6/dist-packages/keras/backend/tensorflow_backend.py:168: The name tf.Session is deprecated. Please use tf.compat.v1.Session instead.\n",
      "\n",
      "WARNING:tensorflow:From /usr/local/lib/python3.6/dist-packages/keras/backend/tensorflow_backend.py:172: The name tf.global_variables is deprecated. Please use tf.compat.v1.global_variables instead.\n",
      "\n",
      "WARNING:tensorflow:From /usr/local/lib/python3.6/dist-packages/keras/backend/tensorflow_backend.py:181: The name tf.is_variable_initialized is deprecated. Please use tf.compat.v1.is_variable_initialized instead.\n",
      "\n",
      "WARNING:tensorflow:From /usr/local/lib/python3.6/dist-packages/keras/backend/tensorflow_backend.py:188: The name tf.variables_initializer is deprecated. Please use tf.compat.v1.variables_initializer instead.\n",
      "\n",
      "WARNING:tensorflow:From /usr/local/lib/python3.6/dist-packages/keras/backend/tensorflow_backend.py:3458: The name tf.nn.max_pool is deprecated. Please use tf.nn.max_pool2d instead.\n",
      "\n",
      "WARNING:tensorflow:From /usr/local/lib/python3.6/dist-packages/keras/backend/tensorflow_backend.py:1259: calling reduce_prod_v1 (from tensorflow.python.ops.math_ops) with keep_dims is deprecated and will be removed in a future version.\n",
      "Instructions for updating:\n",
      "keep_dims is deprecated, use keepdims instead\n",
      "Downloading data from https://github.com/fchollet/deep-learning-models/releases/download/v0.1/vgg16_weights_tf_dim_ordering_tf_kernels.h5\n",
      "553467904/553467096 [==============================] - 12s 0us/step\n"
     ]
    }
   ],
   "source": [
    "model = vgg16.VGG16(weights='imagenet', include_top=True)"
   ]
  },
  {
   "cell_type": "code",
   "execution_count": 0,
   "metadata": {
    "colab": {},
    "colab_type": "code",
    "id": "IlylutIbUICl"
   },
   "outputs": [],
   "source": [
    "from keras.applications.vgg16 import VGG16, preprocess_input\n",
    "\n",
    "def get_image_features_without_fd(image_file_name,model):\n",
    "    ''' Runs the given image_file to VGG 16 model and returns the \n",
    "    weights (filters) as a 1, 4096 dimension vector '''\n",
    "    img = image.load_img(image_file_name, target_size=(224, 224))\n",
    "    x = image.img_to_array(img)\n",
    "    x = np.expand_dims(x, axis=0)\n",
    "    x = preprocess_input(x)\n",
    "    features = model.predict(x)\n",
    "    model_extractfeatures = Model(input=model.input, output=model.get_layer('fc2').output)\n",
    "    fc2_features = model_extractfeatures.predict(x)\n",
    "    image_features = fc2_features.reshape(4096)\n",
    "    return image_features"
   ]
  },
  {
   "cell_type": "code",
   "execution_count": 0,
   "metadata": {
    "colab": {},
    "colab_type": "code",
    "id": "_ZC3ZgsFUK2_"
   },
   "outputs": [],
   "source": [
    "def get_image_model_without():\n",
    "    ''' Takes the CNN weights file, and returns the VGG model update \n",
    "    with the weights. Requires the file VGG.py inside models/CNN '''\n",
    "    image_model = VGG16(weights='imagenet', include_top=False)\n",
    "    image_model.layers.pop()\n",
    "    image_model.layers.pop()\n",
    "    # this is standard VGG 16 without the last two layers\n",
    "    sgd = SGD(lr=0.1, decay=1e-6, momentum=0.9, nesterov=True)\n",
    "    # one may experiment with \"adam\" optimizer, but the loss function for\n",
    "    # this kind of task is pretty standard\n",
    "    image_model.compile(optimizer=sgd, loss='categorical_crossentropy')\n",
    "    return image_model"
   ]
  },
  {
   "cell_type": "code",
   "execution_count": 6,
   "metadata": {
    "colab": {
     "base_uri": "https://localhost:8080/",
     "height": 190
    },
    "colab_type": "code",
    "id": "Wzg3CrSJUL9q",
    "outputId": "368777b1-b606-4238-8957-6424e28983ed"
   },
   "outputs": [
    {
     "name": "stdout",
     "output_type": "stream",
     "text": [
      "Downloading data from https://github.com/fchollet/deep-learning-models/releases/download/v0.1/vgg16_weights_tf_dim_ordering_tf_kernels_notop.h5\n",
      "58892288/58889256 [==============================] - 2s 0us/step\n",
      "WARNING:tensorflow:From /usr/local/lib/python3.6/dist-packages/keras/optimizers.py:711: The name tf.train.Optimizer is deprecated. Please use tf.compat.v1.train.Optimizer instead.\n",
      "\n",
      "WARNING:tensorflow:From /usr/local/lib/python3.6/dist-packages/keras/backend/tensorflow_backend.py:2880: calling reduce_sum_v1 (from tensorflow.python.ops.math_ops) with keep_dims is deprecated and will be removed in a future version.\n",
      "Instructions for updating:\n",
      "keep_dims is deprecated, use keepdims instead\n",
      "WARNING:tensorflow:From /usr/local/lib/python3.6/dist-packages/keras/backend/tensorflow_backend.py:2884: The name tf.log is deprecated. Please use tf.math.log instead.\n",
      "\n"
     ]
    }
   ],
   "source": [
    "vgg_without = get_image_model_without()"
   ]
  },
  {
   "cell_type": "code",
   "execution_count": 0,
   "metadata": {
    "colab": {},
    "colab_type": "code",
    "id": "83aO4besUQz9"
   },
   "outputs": [],
   "source": [
    "def get_question_features_without_fd(question):\n",
    "    ''' For a given question, a unicode string, returns the time series vector\n",
    "    with each word (token) transformed into a 300 dimension representation\n",
    "    calculated using Glove Vector '''\n",
    "    word_embeddings = spacy.load('en_core_web_md')\n",
    "    tokens = word_embeddings(question)\n",
    "    question_tensor = np.zeros((30, 300))\n",
    "    for j in range(len(tokens)):\n",
    "        question_tensor[j,:] = tokens[j].vector\n",
    "    return question_tensor"
   ]
  },
  {
   "cell_type": "code",
   "execution_count": 0,
   "metadata": {
    "colab": {},
    "colab_type": "code",
    "id": "9cWrn9HqUSrW"
   },
   "outputs": [],
   "source": [
    "from keras.preprocessing import image\n",
    "from keras.applications import vgg16\n",
    "from keras.models import Model\n",
    "from keras.applications.vgg16 import VGG16, preprocess_input\n",
    "model = vgg16.VGG16(weights='imagenet', include_top=True)"
   ]
  },
  {
   "cell_type": "code",
   "execution_count": 0,
   "metadata": {
    "colab": {},
    "colab_type": "code",
    "id": "RKAZGze-lBeD"
   },
   "outputs": [],
   "source": [
    "from keras.utils import plot_model"
   ]
  },
  {
   "cell_type": "code",
   "execution_count": 133,
   "metadata": {
    "colab": {
     "base_uri": "https://localhost:8080/",
     "height": 1000
    },
    "colab_type": "code",
    "id": "fe2g3GKplC3s",
    "outputId": "d14952fb-6e3e-4944-c445-eb23318038ba"
   },
   "outputs": [
    {
     "data": {
      "image/png": "[encoded data removed]",
      "text/plain": [
       "<IPython.core.display.Image object>"
      ]
     },
     "execution_count": 133,
     "metadata": {
      "image/png": {
       "height": 1254,
       "width": 266
      },
      "tags": []
     },
     "output_type": "execute_result"
    }
   ],
   "source": [
    "plot_model(model, show_shapes=True, show_layer_names=True, to_file='model.png')\n",
    "Image(retina=True, filename='model.png')"
   ]
  },
  {
   "cell_type": "code",
   "execution_count": 0,
   "metadata": {
    "colab": {},
    "colab_type": "code",
    "id": "18bq70L-UVKl"
   },
   "outputs": [],
   "source": [
    "\n",
    "def get_image_features_without_fd(image_file_name,model):\n",
    "    ''' Runs the given image_file to VGG 16 model and returns the \n",
    "    weights (filters) as a 1, 4096 dimension vector '''\n",
    "    img = image.load_img(image_file_name, target_size=(224, 224))\n",
    "    x = image.img_to_array(img)\n",
    "    x = np.expand_dims(x, axis=0)\n",
    "    x = preprocess_input(x)\n",
    "    features = model.predict(x)\n",
    "    model_extractfeatures = Model(input=model.input, output=model.get_layer('fc2').output)\n",
    "    fc2_features = model_extractfeatures.predict(x)\n",
    "    image_features = fc2_features.reshape(4096)\n",
    "    return image_features"
   ]
  },
  {
   "cell_type": "code",
   "execution_count": 0,
   "metadata": {
    "colab": {},
    "colab_type": "code",
    "id": "jh6PrXyFUXnE"
   },
   "outputs": [],
   "source": [
    "def get_VQA_model():\n",
    "    ''' Given the VQA model and its weights, compiles and returns the model '''\n",
    "\n",
    "    # thanks the keras function for loading a model from JSON, this becomes\n",
    "    # very easy to understand and work. Alternative would be to load model\n",
    "    # from binary like cPickle but then model would be obfuscated to users\n",
    "    vqa_model = model_from_json(open(\"/content/model/our_model_final.json\").read())\n",
    "    # vqa_model.load_weights(VQA_weights_file_name)\n",
    "    vqa_model.compile(loss='categorical_crossentropy', optimizer='rmsprop')\n",
    "    return vqa_model"
   ]
  },
  {
   "cell_type": "code",
   "execution_count": 11,
   "metadata": {
    "colab": {
     "base_uri": "https://localhost:8080/",
     "height": 581
    },
    "colab_type": "code",
    "id": "6ySfKPbhUh4z",
    "outputId": "f02d5489-a002-4bc2-fde7-75474a320e6e"
   },
   "outputs": [
    {
     "name": "stdout",
     "output_type": "stream",
     "text": [
      "WARNING:tensorflow:From /usr/local/lib/python3.6/dist-packages/keras/backend/tensorflow_backend.py:3013: calling dropout (from tensorflow.python.ops.nn_ops) with keep_prob is deprecated and will be removed in a future version.\n",
      "Instructions for updating:\n",
      "Please use `rate` instead of `keep_prob`. Rate should be set to `rate = 1 - keep_prob`.\n",
      "_________________________________________________________________\n",
      "Layer (type)                 Output Shape              Param #   \n",
      "=================================================================\n",
      "merge_2 (Merge)              (None, 4608)              0         \n",
      "_________________________________________________________________\n",
      "dense_5 (Dense)              (None, 1024)              4719616   \n",
      "_________________________________________________________________\n",
      "activation_5 (Activation)    (None, 1024)              0         \n",
      "_________________________________________________________________\n",
      "dropout_4 (Dropout)          (None, 1024)              0         \n",
      "_________________________________________________________________\n",
      "dense_6 (Dense)              (None, 1024)              1049600   \n",
      "_________________________________________________________________\n",
      "activation_6 (Activation)    (None, 1024)              0         \n",
      "_________________________________________________________________\n",
      "dropout_5 (Dropout)          (None, 1024)              0         \n",
      "_________________________________________________________________\n",
      "dense_7 (Dense)              (None, 1024)              1049600   \n",
      "_________________________________________________________________\n",
      "activation_7 (Activation)    (None, 1024)              0         \n",
      "_________________________________________________________________\n",
      "dropout_6 (Dropout)          (None, 1024)              0         \n",
      "_________________________________________________________________\n",
      "dense_1 (Dense)              (None, 10)                10250     \n",
      "=================================================================\n",
      "Total params: 12,692,490\n",
      "Trainable params: 12,692,490\n",
      "Non-trainable params: 0\n",
      "_________________________________________________________________\n"
     ]
    }
   ],
   "source": [
    "our_vqa_model = get_VQA_model()\n",
    "our_vqa_model.summary()"
   ]
  },
  {
   "cell_type": "code",
   "execution_count": 12,
   "metadata": {
    "colab": {
     "base_uri": "https://localhost:8080/",
     "height": 241
    },
    "colab_type": "code",
    "id": "ePkhKKXPUjuF",
    "outputId": "7ae9eb8f-e522-4bd7-fc14-2da9dca36227"
   },
   "outputs": [
    {
     "name": "stdout",
     "output_type": "stream",
     "text": [
      "Collecting en_core_web_md==2.1.0\n",
      "\u001b[?25l  Downloading https://github.com/explosion/spacy-models/releases/download/en_core_web_md-2.1.0/en_core_web_md-2.1.0.tar.gz (95.4MB)\n",
      "\u001b[K     |████████████████████████████████| 95.4MB 1.2MB/s \n",
      "\u001b[?25hBuilding wheels for collected packages: en-core-web-md\n",
      "  Building wheel for en-core-web-md (setup.py) ... \u001b[?25l\u001b[?25hdone\n",
      "  Created wheel for en-core-web-md: filename=en_core_web_md-2.1.0-cp36-none-any.whl size=97126237 sha256=3a6ff20c86068c4881546f5b57a7be670998addb7537267839446942d02d3512\n",
      "  Stored in directory: /tmp/pip-ephem-wheel-cache-54a57dm0/wheels/c1/2c/5f/fd7f3ec336bf97b0809c86264d2831c5dfb00fc2e239d1bb01\n",
      "Successfully built en-core-web-md\n",
      "Installing collected packages: en-core-web-md\n",
      "Successfully installed en-core-web-md-2.1.0\n",
      "\u001b[38;5;2m✔ Download and installation successful\u001b[0m\n",
      "You can now load the model via spacy.load('en_core_web_md')\n"
     ]
    }
   ],
   "source": [
    "!python -m spacy download en_core_web_md"
   ]
  },
  {
   "cell_type": "code",
   "execution_count": 13,
   "metadata": {
    "colab": {
     "base_uri": "https://localhost:8080/",
     "height": 51
    },
    "colab_type": "code",
    "id": "8UTj6f6DUtCT",
    "outputId": "9a68be05-17c5-42fe-e713-390b0582774a"
   },
   "outputs": [
    {
     "name": "stdout",
     "output_type": "stream",
     "text": [
      "\u001b[38;5;2m✔ Download and installation successful\u001b[0m\n",
      "You can now load the model via spacy.load('en_core_web_md')\n"
     ]
    }
   ],
   "source": [
    "\n",
    "import spacy.cli\n",
    "spacy.cli.download(\"en_core_web_md\")"
   ]
  },
  {
   "cell_type": "code",
   "execution_count": 0,
   "metadata": {
    "colab": {},
    "colab_type": "code",
    "id": "Ay-cmj4sUwtd"
   },
   "outputs": [],
   "source": [
    "word_embeddings = spacy.load('en_core_web_md')"
   ]
  },
  {
   "cell_type": "code",
   "execution_count": 0,
   "metadata": {
    "colab": {},
    "colab_type": "code",
    "id": "JIowkCLFU5vj"
   },
   "outputs": [],
   "source": [
    "\n",
    "def get_question_features_without_fd(question,word_embeddings):\n",
    "    ''' For a given question, a unicode string, returns the time series vector\n",
    "    with each word (token) transformed into a 300 dimension representation\n",
    "    calculated using Glove Vector '''\n",
    "    tokens = word_embeddings(question)\n",
    "    question_tensor = np.zeros((30, 300))\n",
    "    for j in range(len(tokens)):\n",
    "        question_tensor[j,:] = tokens[j].vector\n",
    "    return question_tensor"
   ]
  },
  {
   "cell_type": "code",
   "execution_count": 0,
   "metadata": {
    "colab": {},
    "colab_type": "code",
    "id": "60O4i-3SVBLB"
   },
   "outputs": [],
   "source": [
    "def create_image_feature_test(image_path,model):\n",
    "  image_features = get_image_features_without_fd(image_path,model)\n",
    "  image_feature_processed = np.array(image_features)\n",
    "  image_feature_processed = image_feature_processed.reshape((1,image_feature_processed.shape[0]))\n",
    "  return image_feature_processed"
   ]
  },
  {
   "cell_type": "code",
   "execution_count": 0,
   "metadata": {
    "colab": {},
    "colab_type": "code",
    "id": "_0ovoowZVJM9"
   },
   "outputs": [],
   "source": [
    "new_image = create_image_feature_test('/content/Images/8.jpg',model)"
   ]
  },
  {
   "cell_type": "code",
   "execution_count": 18,
   "metadata": {
    "colab": {
     "base_uri": "https://localhost:8080/",
     "height": 34
    },
    "colab_type": "code",
    "id": "_eCxLeypVL3n",
    "outputId": "2ba2cee9-6575-4022-c143-397c76cdfb8f"
   },
   "outputs": [
    {
     "data": {
      "text/plain": [
       "(1, 4096)"
      ]
     },
     "execution_count": 18,
     "metadata": {
      "tags": []
     },
     "output_type": "execute_result"
    }
   ],
   "source": [
    "new_image.shape"
   ]
  },
  {
   "cell_type": "code",
   "execution_count": 134,
   "metadata": {
    "colab": {
     "base_uri": "https://localhost:8080/",
     "height": 34
    },
    "colab_type": "code",
    "id": "SUsDqDkTkNgi",
    "outputId": "5abe4fba-1b87-4ce0-c372-2e3182dad228"
   },
   "outputs": [
    {
     "data": {
      "text/plain": [
       "(1, 30, 300)"
      ]
     },
     "execution_count": 134,
     "metadata": {
      "tags": []
     },
     "output_type": "execute_result"
    }
   ],
   "source": [
    "new_question.shape"
   ]
  },
  {
   "cell_type": "code",
   "execution_count": 0,
   "metadata": {
    "colab": {},
    "colab_type": "code",
    "id": "iVwSIrUJVNyc"
   },
   "outputs": [],
   "source": [
    "def create_question_feature_test(text):\n",
    "  question_feature=get_question_features_without_fd(text,word_embeddings)\n",
    "  question_feature_processed = np.array(question_feature)  \n",
    "  question_feature_processed = question_feature_processed.reshape((1,question_feature_processed.shape[0], question_feature_processed.shape[1]))\n",
    "  return question_feature_processed"
   ]
  },
  {
   "cell_type": "code",
   "execution_count": 20,
   "metadata": {
    "colab": {
     "base_uri": "https://localhost:8080/",
     "height": 34
    },
    "colab_type": "code",
    "id": "k1nWIxdvVP8f",
    "outputId": "7e0d6e00-a810-4e62-9826-b8dfa77afa4e"
   },
   "outputs": [
    {
     "data": {
      "text/plain": [
       "65"
      ]
     },
     "execution_count": 20,
     "metadata": {
      "tags": []
     },
     "output_type": "execute_result"
    }
   ],
   "source": [
    "training_datas = []\n",
    "with open('/content/CSV/training.csv') as csv_file:\n",
    "  csv_reader = csv.reader(csv_file, delimiter=',')\n",
    "  for row in csv_reader:\n",
    "    training_datas.append(row)\n",
    "training_datas = training_datas[1:]\n",
    "len(training_datas)"
   ]
  },
  {
   "cell_type": "code",
   "execution_count": 21,
   "metadata": {
    "colab": {
     "base_uri": "https://localhost:8080/",
     "height": 71
    },
    "colab_type": "code",
    "id": "rli8TLd5Zh_E",
    "outputId": "fe0bfc7f-7fc0-42aa-fa58-10d5c0d6926a"
   },
   "outputs": [
    {
     "name": "stdout",
     "output_type": "stream",
     "text": [
      "65\n",
      "['yes', 'hand', 'hand', 'single', 'multiple', 'hand', 'yes', 'foreign', 'yes', 'yes', 'foreign', 'hand', 'yes', 'skull', 'skull', 'skull', 'skull', 'hand', 'left', 'left', 'right', 'left', 'right', 'right', 'right', 'right', 'left', 'left', 'left', 'left', 'left', 'left', 'left', 'left', 'yes', 'yes', 'foreign', 'foreign', 'foreign', 'foreign', 'foreign', 'leg', 'leg', 'leg', 'leg', 'leg', 'leg', 'leg', 'single', 'yes', 'yes', 'multiple', 'multiple', 'multiple', 'no', 'no', 'no', 'no', 'no', 'no', 'yes', 'yes', 'yes', 'yes', 'yes']\n"
     ]
    }
   ],
   "source": [
    "trainY= []\n",
    "for training_data in training_datas:\n",
    "  img_id,text,output = training_data\n",
    "  trainY.append(output)\n",
    "print(len(trainY))\n",
    "print(trainY)"
   ]
  },
  {
   "cell_type": "code",
   "execution_count": 22,
   "metadata": {
    "colab": {
     "base_uri": "https://localhost:8080/",
     "height": 54
    },
    "colab_type": "code",
    "id": "beHsrFxtZmze",
    "outputId": "5df47a6d-b6bc-4e18-eb70-60d1c818e120"
   },
   "outputs": [
    {
     "name": "stdout",
     "output_type": "stream",
     "text": [
      "[6, 2, 2, 3, 1, 2, 6, 4, 6, 6, 4, 2, 6, 0, 0, 0, 0, 2, 8, 8, 7, 8, 7, 7, 7, 7, 8, 8, 8, 8, 8, 8, 8, 8, 6, 6, 4, 4, 4, 4, 4, 9, 9, 9, 9, 9, 9, 9, 3, 6, 6, 1, 1, 1, 5, 5, 5, 5, 5, 5, 6, 6, 6, 6, 6]\n"
     ]
    }
   ],
   "source": [
    "set_trainy = list(set(trainY))\n",
    "trainY_labels = []\n",
    "for y in trainY:\n",
    "  trainY_labels.append(set_trainy.index(y))\n",
    "print(trainY_labels)"
   ]
  },
  {
   "cell_type": "code",
   "execution_count": 0,
   "metadata": {
    "colab": {},
    "colab_type": "code",
    "id": "wQvCJGuGZpwe"
   },
   "outputs": [],
   "source": [
    "trainY_cate = keras.utils.to_categorical(trainY_labels, num_classes=10)"
   ]
  },
  {
   "cell_type": "code",
   "execution_count": 24,
   "metadata": {
    "colab": {
     "base_uri": "https://localhost:8080/",
     "height": 1000
    },
    "colab_type": "code",
    "id": "HxdimAiOZsW5",
    "outputId": "2bef1880-fa1c-4527-bb29-69ee768f222d"
   },
   "outputs": [
    {
     "name": "stdout",
     "output_type": "stream",
     "text": [
      "Processing 1 image\n",
      "Processing 1 image\n",
      "Processing 2 image\n",
      "Processing 2 image\n",
      "Processing 3 image\n",
      "Processing 3 image\n",
      "Processing 4 image\n",
      "Processing 4 image\n",
      "Processing 5 image\n",
      "Processing 6 image\n",
      "Processing 6 image\n",
      "Processing 7 image\n",
      "Processing 7 image\n",
      "Processing 8 image\n",
      "Processing 9 image\n",
      "Processing 10 image\n",
      "Processing 11 image\n",
      "Processing 12 image\n",
      "Processing 13 image\n",
      "Processing 14 image\n",
      "Processing 15 image\n",
      "Processing 16 image\n",
      "Processing 17 image\n",
      "Processing 18 image\n",
      "Processing 19 image\n",
      "Processing 20 image\n",
      "Processing 21 image\n",
      "Processing 22 image\n",
      "Processing 23 image\n",
      "Processing 24 image\n",
      "Processing 25 image\n",
      "Processing 26 image\n",
      "Processing 27 image\n",
      "Processing 28 image\n",
      "Processing 29 image\n",
      "Processing 30 image\n",
      "Processing 31 image\n",
      "Processing 32 image\n",
      "Processing 33 image\n",
      "Processing 34 image\n",
      "Processing 35 image\n",
      "Processing 36 image\n",
      "Processing 37 image\n",
      "Processing 38 image\n",
      "Processing 39 image\n",
      "Processing 40 image\n",
      "Processing 41 image\n",
      "Processing 42 image\n",
      "Processing 42 image\n",
      "Processing 42 image\n",
      "Processing 43 image\n",
      "Processing 43 image\n",
      "Processing 45 image\n",
      "Processing 46 image\n",
      "Processing 47 image\n",
      "Processing 48 image\n",
      "Processing 49 image\n",
      "Processing 50 image\n",
      "Processing 53 image\n",
      "Processing 54 image\n",
      "Processing 55 image\n",
      "Processing 56 image\n",
      "Processing 57 image\n",
      "Processing 58 image\n",
      "Processing 59 image\n"
     ]
    },
    {
     "data": {
      "text/plain": [
       "(65, 2)"
      ]
     },
     "execution_count": 24,
     "metadata": {
      "tags": []
     },
     "output_type": "execute_result"
    }
   ],
   "source": [
    "trainX= []\n",
    "for training_data in training_datas:\n",
    "  img_id,text,output = training_data\n",
    "  print(\"Processing {} image\".format(img_id))\n",
    "  image_features = get_image_features_without_fd(\"/content/Images/{}.jpg\".format(img_id),model)\n",
    "  question_features = get_question_features_without_fd(text,word_embeddings)\n",
    "  trainX.append([question_features,image_features])\n",
    "np.array(trainX).shape"
   ]
  },
  {
   "cell_type": "code",
   "execution_count": 0,
   "metadata": {
    "colab": {},
    "colab_type": "code",
    "id": "If7WC_LhaQVr"
   },
   "outputs": [],
   "source": [
    "question_features_array = []\n",
    "image_features_array = []\n",
    "for x in trainX:\n",
    "  question_features_array.append(x[0])\n",
    "  image_features_array.append(x[1])"
   ]
  },
  {
   "cell_type": "code",
   "execution_count": 26,
   "metadata": {
    "colab": {
     "base_uri": "https://localhost:8080/",
     "height": 51
    },
    "colab_type": "code",
    "id": "FVHmQb-vaSnS",
    "outputId": "e3503438-6c70-422a-cfcc-255915f6ce65"
   },
   "outputs": [
    {
     "name": "stdout",
     "output_type": "stream",
     "text": [
      "(65, 30, 300)\n",
      "(65, 4096)\n"
     ]
    }
   ],
   "source": [
    "question_features_array = np.array(question_features_array)\n",
    "image_features_array = np.array(image_features_array)\n",
    "print(question_features_array.shape)\n",
    "print(image_features_array.shape)"
   ]
  },
  {
   "cell_type": "code",
   "execution_count": 27,
   "metadata": {
    "colab": {
     "base_uri": "https://localhost:8080/",
     "height": 71
    },
    "colab_type": "code",
    "id": "RiXva_IcaUd4",
    "outputId": "d383eccf-7293-471c-fa88-89216d8baa24"
   },
   "outputs": [
    {
     "name": "stdout",
     "output_type": "stream",
     "text": [
      "65\n",
      "['yes', 'hand', 'hand', 'single', 'multiple', 'hand', 'yes', 'foreign', 'yes', 'yes', 'foreign', 'hand', 'yes', 'skull', 'skull', 'skull', 'skull', 'hand', 'left', 'left', 'right', 'left', 'right', 'right', 'right', 'right', 'left', 'left', 'left', 'left', 'left', 'left', 'left', 'left', 'yes', 'yes', 'foreign', 'foreign', 'foreign', 'foreign', 'foreign', 'leg', 'leg', 'leg', 'leg', 'leg', 'leg', 'leg', 'single', 'yes', 'yes', 'multiple', 'multiple', 'multiple', 'no', 'no', 'no', 'no', 'no', 'no', 'yes', 'yes', 'yes', 'yes', 'yes']\n"
     ]
    }
   ],
   "source": [
    "trainY= []\n",
    "for training_data in training_datas:\n",
    "  img_id,text,output = training_data\n",
    "  trainY.append(output)\n",
    "print(len(trainY))\n",
    "print(trainY)"
   ]
  },
  {
   "cell_type": "code",
   "execution_count": 28,
   "metadata": {
    "colab": {
     "base_uri": "https://localhost:8080/",
     "height": 54
    },
    "colab_type": "code",
    "id": "Snfjoexgabqo",
    "outputId": "3442a8c5-3aa2-4603-94e2-36bb36aa3c74"
   },
   "outputs": [
    {
     "name": "stdout",
     "output_type": "stream",
     "text": [
      "[6, 2, 2, 3, 1, 2, 6, 4, 6, 6, 4, 2, 6, 0, 0, 0, 0, 2, 8, 8, 7, 8, 7, 7, 7, 7, 8, 8, 8, 8, 8, 8, 8, 8, 6, 6, 4, 4, 4, 4, 4, 9, 9, 9, 9, 9, 9, 9, 3, 6, 6, 1, 1, 1, 5, 5, 5, 5, 5, 5, 6, 6, 6, 6, 6]\n"
     ]
    }
   ],
   "source": [
    "set_trainy = list(set(trainY))\n",
    "trainY_labels = []\n",
    "for y in trainY:\n",
    "  trainY_labels.append(set_trainy.index(y))\n",
    "print(trainY_labels)"
   ]
  },
  {
   "cell_type": "code",
   "execution_count": 0,
   "metadata": {
    "colab": {},
    "colab_type": "code",
    "id": "U9r4zHGIafHf"
   },
   "outputs": [],
   "source": [
    "trainY_cate = keras.utils.to_categorical(trainY_labels, num_classes=10)"
   ]
  },
  {
   "cell_type": "code",
   "execution_count": 30,
   "metadata": {
    "colab": {
     "base_uri": "https://localhost:8080/",
     "height": 1000
    },
    "colab_type": "code",
    "id": "ky4zEHpmagO2",
    "outputId": "d0baa7d9-a56e-42f1-9987-bab57729a173"
   },
   "outputs": [
    {
     "name": "stdout",
     "output_type": "stream",
     "text": [
      "WARNING:tensorflow:From /usr/local/lib/python3.6/dist-packages/tensorflow_core/python/ops/math_grad.py:1424: where (from tensorflow.python.ops.array_ops) is deprecated and will be removed in a future version.\n",
      "Instructions for updating:\n",
      "Use tf.where in 2.0, which has the same broadcast rule as np.where\n",
      "WARNING:tensorflow:From /usr/local/lib/python3.6/dist-packages/keras/backend/tensorflow_backend.py:675: calling Constant.__init__ (from tensorflow.python.ops.init_ops) with dtype is deprecated and will be removed in a future version.\n",
      "Instructions for updating:\n",
      "Call initializer instance with the dtype argument instead of passing it to the constructor\n",
      "WARNING:tensorflow:From /usr/local/lib/python3.6/dist-packages/keras/backend/tensorflow_backend.py:953: The name tf.assign_add is deprecated. Please use tf.compat.v1.assign_add instead.\n",
      "\n",
      "WARNING:tensorflow:From /usr/local/lib/python3.6/dist-packages/keras/backend/tensorflow_backend.py:940: The name tf.assign is deprecated. Please use tf.compat.v1.assign instead.\n",
      "\n",
      "Epoch 1/30\n",
      "65/65 [==============================] - 15s 237ms/step - loss: 6.1251\n",
      "Epoch 2/30\n",
      "65/65 [==============================] - 13s 201ms/step - loss: 3.3413\n",
      "Epoch 3/30\n",
      "65/65 [==============================] - 13s 198ms/step - loss: 3.4415\n",
      "Epoch 4/30\n",
      "65/65 [==============================] - 13s 200ms/step - loss: 3.3738\n",
      "Epoch 5/30\n",
      "65/65 [==============================] - 13s 196ms/step - loss: 2.9910\n",
      "Epoch 6/30\n",
      "65/65 [==============================] - 13s 200ms/step - loss: 3.1861\n",
      "Epoch 7/30\n",
      "65/65 [==============================] - 13s 203ms/step - loss: 2.7381\n",
      "Epoch 8/30\n",
      "65/65 [==============================] - 12s 190ms/step - loss: 2.6517\n",
      "Epoch 9/30\n",
      "65/65 [==============================] - 14s 209ms/step - loss: 2.6642\n",
      "Epoch 10/30\n",
      "65/65 [==============================] - 13s 202ms/step - loss: 2.6371\n",
      "Epoch 11/30\n",
      "65/65 [==============================] - 13s 205ms/step - loss: 2.3940\n",
      "Epoch 12/30\n",
      "65/65 [==============================] - 13s 198ms/step - loss: 2.4822\n",
      "Epoch 13/30\n",
      "65/65 [==============================] - 13s 200ms/step - loss: 2.3007\n",
      "Epoch 14/30\n",
      "65/65 [==============================] - 13s 202ms/step - loss: 2.4164\n",
      "Epoch 15/30\n",
      "65/65 [==============================] - 13s 206ms/step - loss: 2.0220\n",
      "Epoch 16/30\n",
      "65/65 [==============================] - 13s 193ms/step - loss: 2.0189\n",
      "Epoch 17/30\n",
      "65/65 [==============================] - 13s 205ms/step - loss: 1.6443\n",
      "Epoch 18/30\n",
      "65/65 [==============================] - 13s 197ms/step - loss: 1.8709\n",
      "Epoch 19/30\n",
      "65/65 [==============================] - 13s 201ms/step - loss: 1.8349\n",
      "Epoch 20/30\n",
      "65/65 [==============================] - 13s 202ms/step - loss: 1.4758\n",
      "Epoch 21/30\n",
      "65/65 [==============================] - 13s 196ms/step - loss: 1.5801\n",
      "Epoch 22/30\n",
      "65/65 [==============================] - 13s 194ms/step - loss: 1.3994\n",
      "Epoch 23/30\n",
      "65/65 [==============================] - 13s 200ms/step - loss: 1.5174\n",
      "Epoch 24/30\n",
      "65/65 [==============================] - 13s 196ms/step - loss: 1.6471\n",
      "Epoch 25/30\n",
      "65/65 [==============================] - 13s 198ms/step - loss: 1.3413\n",
      "Epoch 26/30\n",
      "65/65 [==============================] - 13s 196ms/step - loss: 1.4185\n",
      "Epoch 27/30\n",
      "65/65 [==============================] - 13s 199ms/step - loss: 1.3292\n",
      "Epoch 28/30\n",
      "65/65 [==============================] - 13s 202ms/step - loss: 1.2502\n",
      "Epoch 29/30\n",
      "65/65 [==============================] - 13s 205ms/step - loss: 1.3011\n",
      "Epoch 30/30\n",
      "65/65 [==============================] - 13s 204ms/step - loss: 1.2892\n"
     ]
    }
   ],
   "source": [
    "history = our_vqa_model.fit([question_features_array,image_features_array],trainY_cate,5,30)"
   ]
  },
  {
   "cell_type": "code",
   "execution_count": 0,
   "metadata": {
    "colab": {},
    "colab_type": "code",
    "id": "GjzV0s3WcDtC"
   },
   "outputs": [],
   "source": [
    "our_vqa_model.save_weights('/content/model_weights_after_training.h5')\n",
    "\n",
    "# Save the model architecture\n",
    "with open('/content/model_architecture_after_training.json', 'w') as f:\n",
    "    f.write(our_vqa_model.to_json())"
   ]
  },
  {
   "cell_type": "code",
   "execution_count": 32,
   "metadata": {
    "colab": {
     "base_uri": "https://localhost:8080/",
     "height": 295
    },
    "colab_type": "code",
    "id": "41qFcyAbcH0p",
    "outputId": "6101a135-63dc-47d7-860c-6ef2eef17d99"
   },
   "outputs": [
    {
     "data": {
      "image/png": "[encoded data removed]",
      "text/plain": [
       "<Figure size 432x288 with 1 Axes>"
      ]
     },
     "metadata": {
      "tags": []
     },
     "output_type": "display_data"
    }
   ],
   "source": [
    "import matplotlib.pyplot as plt\n",
    "# summarize history for accuracy\n",
    "plt.plot(history.history['loss'])\n",
    "plt.title('model loss')\n",
    "plt.ylabel('loss')\n",
    "plt.xlabel('epoch')\n",
    "plt.show()"
   ]
  },
  {
   "cell_type": "code",
   "execution_count": 0,
   "metadata": {
    "colab": {},
    "colab_type": "code",
    "id": "Qae0AJjPcKMp"
   },
   "outputs": [],
   "source": [
    "with open('/content/model_architecture_after_training.json', 'r') as f:\n",
    "    vqa_model = model_from_json(f.read())\n",
    "\n",
    "# Load weights into the new model\n",
    "vqa_model.load_weights('/content/model_weights_after_training.h5')"
   ]
  },
  {
   "cell_type": "code",
   "execution_count": 123,
   "metadata": {
    "colab": {
     "base_uri": "https://localhost:8080/",
     "height": 375
    },
    "colab_type": "code",
    "id": "rf0uCKsNcPX6",
    "outputId": "8c9eeebe-844e-4c2a-f9ab-e57e1d69d729"
   },
   "outputs": [
    {
     "data": {
      "image/jpeg": "[encoded data removed]",
      "text/plain": [
       "<IPython.core.display.Image object>"
      ]
     },
     "execution_count": 123,
     "metadata": {
      "tags": []
     },
     "output_type": "execute_result"
    }
   ],
   "source": [
    "from IPython.display import Image\n",
    "Image(filename='/content/Test/healthyhand.jpg')"
   ]
  },
  {
   "cell_type": "code",
   "execution_count": 0,
   "metadata": {
    "colab": {},
    "colab_type": "code",
    "id": "FcmAoIYecXfy"
   },
   "outputs": [],
   "source": [
    "new_question = create_question_feature_test(\"is this left or right\")"
   ]
  },
  {
   "cell_type": "code",
   "execution_count": 0,
   "metadata": {
    "colab": {},
    "colab_type": "code",
    "id": "P0Lo_zKHcfYp"
   },
   "outputs": [],
   "source": [
    "new_image = create_image_feature_test('/content/Test/healthyhand.jpg',model)"
   ]
  },
  {
   "cell_type": "code",
   "execution_count": 137,
   "metadata": {
    "colab": {
     "base_uri": "https://localhost:8080/",
     "height": 34
    },
    "colab_type": "code",
    "id": "11ai0GTxctMj",
    "outputId": "ae14e343-9485-4723-92e2-2178a0418923"
   },
   "outputs": [
    {
     "name": "stdout",
     "output_type": "stream",
     "text": [
      "\r",
      "1/1 [==============================] - 0s 64ms/step\n"
     ]
    }
   ],
   "source": [
    "result=set_trainy[vqa_model.predict_classes([new_question,new_image])[0]]\n"
   ]
  },
  {
   "cell_type": "code",
   "execution_count": 138,
   "metadata": {
    "colab": {
     "base_uri": "https://localhost:8080/",
     "height": 34
    },
    "colab_type": "code",
    "id": "t4BuR-7zjIYY",
    "outputId": "04f44af5-a02e-4e25-8069-f0a2ee55a3b8"
   },
   "outputs": [
    {
     "name": "stdout",
     "output_type": "stream",
     "text": [
      "right\n"
     ]
    }
   ],
   "source": [
    "print(result)"
   ]
  },
  {
   "cell_type": "code",
   "execution_count": 139,
   "metadata": {
    "colab": {
     "base_uri": "https://localhost:8080/",
     "height": 258
    },
    "colab_type": "code",
    "id": "ZnkLF-5TgVgg",
    "outputId": "edd9f720-97cf-40dd-d9b9-d9a5ba63db08"
   },
   "outputs": [
    {
     "data": {
      "image/jpeg": "[encoded data removed]",
      "text/plain": [
       "<IPython.core.display.Image object>"
      ]
     },
     "execution_count": 139,
     "metadata": {
      "tags": []
     },
     "output_type": "execute_result"
    }
   ],
   "source": [
    "from IPython.display import Image\n",
    "Image(filename='/content/Images/11.jpg')"
   ]
  },
  {
   "cell_type": "code",
   "execution_count": 0,
   "metadata": {
    "colab": {},
    "colab_type": "code",
    "id": "PypmkcG1ggKf"
   },
   "outputs": [],
   "source": [
    "new_question = create_question_feature_test(\"what is the body part\")"
   ]
  },
  {
   "cell_type": "code",
   "execution_count": 0,
   "metadata": {
    "colab": {},
    "colab_type": "code",
    "id": "Q61kEE5tgouU"
   },
   "outputs": [],
   "source": [
    "new_image = create_image_feature_test('/content/Images/11.jpg',model)"
   ]
  },
  {
   "cell_type": "code",
   "execution_count": 142,
   "metadata": {
    "colab": {
     "base_uri": "https://localhost:8080/",
     "height": 34
    },
    "colab_type": "code",
    "id": "rsa07_VCgtD7",
    "outputId": "69f07bea-a356-4ddf-d148-ffd619f6c939"
   },
   "outputs": [
    {
     "name": "stdout",
     "output_type": "stream",
     "text": [
      "\r",
      "1/1 [==============================] - 0s 69ms/step\n"
     ]
    }
   ],
   "source": [
    "result=set_trainy[vqa_model.predict_classes([new_question,new_image])[0]]\n"
   ]
  },
  {
   "cell_type": "code",
   "execution_count": 143,
   "metadata": {
    "colab": {
     "base_uri": "https://localhost:8080/",
     "height": 34
    },
    "colab_type": "code",
    "id": "W-r61-GvjMxN",
    "outputId": "86cd5643-66ef-400a-d00c-4b3e84902c02"
   },
   "outputs": [
    {
     "name": "stdout",
     "output_type": "stream",
     "text": [
      "skull\n"
     ]
    }
   ],
   "source": [
    "print(result)"
   ]
  },
  {
   "cell_type": "code",
   "execution_count": 144,
   "metadata": {
    "colab": {
     "base_uri": "https://localhost:8080/",
     "height": 217
    },
    "colab_type": "code",
    "id": "GTk9tAsVg7qX",
    "outputId": "c5783ff0-ec4f-4454-dc27-339555e7de3e"
   },
   "outputs": [
    {
     "data": {
      "image/jpeg": "[encoded data removed]",
      "text/plain": [
       "<IPython.core.display.Image object>"
      ]
     },
     "execution_count": 144,
     "metadata": {
      "tags": []
     },
     "output_type": "execute_result"
    }
   ],
   "source": [
    "from IPython.display import Image\n",
    "Image(filename='/content/Images/47.jpg')"
   ]
  },
  {
   "cell_type": "code",
   "execution_count": 0,
   "metadata": {
    "colab": {},
    "colab_type": "code",
    "id": "fMcypnJjhLiG"
   },
   "outputs": [],
   "source": [
    "new_question = create_question_feature_test(\"is this xray\")"
   ]
  },
  {
   "cell_type": "code",
   "execution_count": 0,
   "metadata": {
    "colab": {},
    "colab_type": "code",
    "id": "9KWYhg6HhQKu"
   },
   "outputs": [],
   "source": [
    "new_image = create_image_feature_test('/content/Images/47.jpg',model)"
   ]
  },
  {
   "cell_type": "code",
   "execution_count": 147,
   "metadata": {
    "colab": {
     "base_uri": "https://localhost:8080/",
     "height": 34
    },
    "colab_type": "code",
    "id": "juJbdRj1hVk2",
    "outputId": "8c6120cc-16b5-4399-d318-635ef82d5c63"
   },
   "outputs": [
    {
     "name": "stdout",
     "output_type": "stream",
     "text": [
      "\r",
      "1/1 [==============================] - 0s 64ms/step\n"
     ]
    }
   ],
   "source": [
    "result=set_trainy[vqa_model.predict_classes([new_question,new_image])[0]]\n"
   ]
  },
  {
   "cell_type": "code",
   "execution_count": 148,
   "metadata": {
    "colab": {
     "base_uri": "https://localhost:8080/",
     "height": 34
    },
    "colab_type": "code",
    "id": "JuisrJSsjPhj",
    "outputId": "399b75c8-4e5d-4600-a4fc-94e8fa0290a6"
   },
   "outputs": [
    {
     "name": "stdout",
     "output_type": "stream",
     "text": [
      "no\n"
     ]
    }
   ],
   "source": [
    "print(result)"
   ]
  }
 ],
 "metadata": {
  "colab": {
   "collapsed_sections": [],
   "include_colab_link": true,
   "name": "Welcome To Colaboratory",
   "provenance": [],
   "toc_visible": true
  },
  "kernelspec": {
   "display_name": "Python 3",
   "language": "python",
   "name": "python3"
  },
  "language_info": {
   "codemirror_mode": {
    "name": "ipython",
    "version": 3
   },
   "file_extension": ".py",
   "mimetype": "text/x-python",
   "name": "python",
   "nbconvert_exporter": "python",
   "pygments_lexer": "ipython3",
   "version": "3.7.3"
  }
 },
 "nbformat": 4,
 "nbformat_minor": 1
}
