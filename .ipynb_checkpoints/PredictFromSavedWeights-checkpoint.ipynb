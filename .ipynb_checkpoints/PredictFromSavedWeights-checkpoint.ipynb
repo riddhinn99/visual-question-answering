{
 "cells": [
  {
   "cell_type": "code",
   "execution_count": 1,
   "metadata": {},
   "outputs": [
    {
     "name": "stderr",
     "output_type": "stream",
     "text": [
      "Using TensorFlow backend.\n"
     ]
    },
    {
     "name": "stdout",
     "output_type": "stream",
     "text": [
      "\u001b[38;5;2m✔ Download and installation successful\u001b[0m\n",
      "You can now load the model via spacy.load('en_core_web_md')\n"
     ]
    }
   ],
   "source": [
    "from keras.applications import vgg16\n",
    "from keras.applications.vgg16 import VGG16, preprocess_input\n",
    "from keras.preprocessing import image\n",
    "from keras.models import Model\n",
    "from keras.models import model_from_json\n",
    "import numpy as np\n",
    "import csv\n",
    "import spacy.cli\n",
    "spacy.cli.download(\"en_core_web_md\")\n",
    "word_embeddings = spacy.load('en_core_web_md')"
   ]
  },
  {
   "cell_type": "code",
   "execution_count": 2,
   "metadata": {},
   "outputs": [
    {
     "name": "stderr",
     "output_type": "stream",
     "text": [
      "WARNING: Logging before flag parsing goes to stderr.\n",
      "W0324 16:27:30.662712 140735559299968 module_wrapper.py:139] From /Users/riddhi_11/anaconda3/lib/python3.7/site-packages/keras/backend/tensorflow_backend.py:63: The name tf.get_default_graph is deprecated. Please use tf.compat.v1.get_default_graph instead.\n",
      "\n",
      "W0324 16:27:30.678314 140735559299968 module_wrapper.py:139] From /Users/riddhi_11/anaconda3/lib/python3.7/site-packages/keras/backend/tensorflow_backend.py:492: The name tf.placeholder is deprecated. Please use tf.compat.v1.placeholder instead.\n",
      "\n",
      "W0324 16:27:30.707118 140735559299968 module_wrapper.py:139] From /Users/riddhi_11/anaconda3/lib/python3.7/site-packages/keras/backend/tensorflow_backend.py:3630: The name tf.random_uniform is deprecated. Please use tf.random.uniform instead.\n",
      "\n",
      "W0324 16:27:30.784132 140735559299968 module_wrapper.py:139] From /Users/riddhi_11/anaconda3/lib/python3.7/site-packages/keras/backend/tensorflow_backend.py:3458: The name tf.nn.max_pool is deprecated. Please use tf.nn.max_pool2d instead.\n",
      "\n",
      "W0324 16:27:30.948925 140735559299968 deprecation.py:506] From /Users/riddhi_11/anaconda3/lib/python3.7/site-packages/keras/backend/tensorflow_backend.py:1259: calling reduce_prod_v1 (from tensorflow.python.ops.math_ops) with keep_dims is deprecated and will be removed in a future version.\n",
      "Instructions for updating:\n",
      "keep_dims is deprecated, use keepdims instead\n",
      "W0324 16:27:35.118386 140735559299968 module_wrapper.py:139] From /Users/riddhi_11/anaconda3/lib/python3.7/site-packages/keras/backend/tensorflow_backend.py:158: The name tf.get_default_session is deprecated. Please use tf.compat.v1.get_default_session instead.\n",
      "\n",
      "W0324 16:27:35.127983 140735559299968 module_wrapper.py:139] From /Users/riddhi_11/anaconda3/lib/python3.7/site-packages/keras/backend/tensorflow_backend.py:163: The name tf.ConfigProto is deprecated. Please use tf.compat.v1.ConfigProto instead.\n",
      "\n",
      "W0324 16:27:35.131464 140735559299968 module_wrapper.py:139] From /Users/riddhi_11/anaconda3/lib/python3.7/site-packages/keras/backend/tensorflow_backend.py:168: The name tf.Session is deprecated. Please use tf.compat.v1.Session instead.\n",
      "\n",
      "W0324 16:27:35.316454 140735559299968 module_wrapper.py:139] From /Users/riddhi_11/anaconda3/lib/python3.7/site-packages/keras/backend/tensorflow_backend.py:172: The name tf.global_variables is deprecated. Please use tf.compat.v1.global_variables instead.\n",
      "\n",
      "W0324 16:27:35.323436 140735559299968 module_wrapper.py:139] From /Users/riddhi_11/anaconda3/lib/python3.7/site-packages/keras/backend/tensorflow_backend.py:181: The name tf.is_variable_initialized is deprecated. Please use tf.compat.v1.is_variable_initialized instead.\n",
      "\n",
      "W0324 16:27:35.726564 140735559299968 module_wrapper.py:139] From /Users/riddhi_11/anaconda3/lib/python3.7/site-packages/keras/backend/tensorflow_backend.py:188: The name tf.variables_initializer is deprecated. Please use tf.compat.v1.variables_initializer instead.\n",
      "\n"
     ]
    }
   ],
   "source": [
    "model = vgg16.VGG16(weights='imagenet', include_top=True)"
   ]
  },
  {
   "cell_type": "code",
   "execution_count": 3,
   "metadata": {},
   "outputs": [],
   "source": [
    "def create_question_feature_test(text):\n",
    "  question_feature=get_question_features_without_fd(text,word_embeddings)\n",
    "  question_feature_processed = np.array(question_feature)  \n",
    "  question_feature_processed = question_feature_processed.reshape((1,question_feature_processed.shape[0], question_feature_processed.shape[1]))\n",
    "  return question_feature_processed\n",
    "\n",
    "def create_image_feature_test(image_path,model):\n",
    "  image_features = get_image_features_without_fd(image_path,model)\n",
    "  image_feature_processed = np.array(image_features)\n",
    "  image_feature_processed = image_feature_processed.reshape((1,image_feature_processed.shape[0]))\n",
    "  return image_feature_processed\n",
    "\n",
    "def get_question_features_without_fd(question,word_embeddings):\n",
    "    ''' For a given question, a unicode string, returns the time series vector\n",
    "    with each word (token) transformed into a 300 dimension representation\n",
    "    calculated using Glove Vector '''\n",
    "    tokens = word_embeddings(question)\n",
    "    question_tensor = np.zeros((30, 300))\n",
    "    for j in range(len(tokens)):\n",
    "        question_tensor[j,:] = tokens[j].vector\n",
    "    return question_tensor\n",
    "\n",
    "\n",
    "def get_image_features_without_fd(image_file_name,model):\n",
    "    ''' Runs the given image_file to VGG 16 model and returns the \n",
    "    weights (filters) as a 1, 4096 dimension vector '''\n",
    "    img = image.load_img(image_file_name, target_size=(224, 224))\n",
    "    x = image.img_to_array(img)\n",
    "    x = np.expand_dims(x, axis=0)\n",
    "    x = preprocess_input(x)\n",
    "    features = model.predict(x)\n",
    "    model_extractfeatures = Model(input=model.input, output=model.get_layer('fc2').output)\n",
    "    fc2_features = model_extractfeatures.predict(x)\n",
    "    image_features = fc2_features.reshape(4096)\n",
    "    return image_features\n"
   ]
  },
  {
   "cell_type": "code",
   "execution_count": 4,
   "metadata": {},
   "outputs": [],
   "source": [
    "#Setting output answers in set_trainY list, so later we can guess probability of each ans\n",
    "training_datas = []\n",
    "with open('sample_data_new/training.csv') as csv_file:\n",
    "  csv_reader = csv.reader(csv_file, delimiter=',')\n",
    "  for row in csv_reader:\n",
    "    training_datas.append(row)\n",
    "trainY= []\n",
    "for training_data in training_datas:\n",
    "  img_id , text,output = training_data\n",
    "  trainY.append(output)\n",
    "set_trainy = list(set(trainY))"
   ]
  },
  {
   "cell_type": "code",
   "execution_count": 5,
   "metadata": {},
   "outputs": [
    {
     "name": "stderr",
     "output_type": "stream",
     "text": [
      "W0324 16:29:58.451136 140735559299968 deprecation.py:506] From /Users/riddhi_11/anaconda3/lib/python3.7/site-packages/keras/backend/tensorflow_backend.py:1242: calling reduce_sum_v1 (from tensorflow.python.ops.math_ops) with keep_dims is deprecated and will be removed in a future version.\n",
      "Instructions for updating:\n",
      "keep_dims is deprecated, use keepdims instead\n",
      "/Users/riddhi_11/anaconda3/lib/python3.7/site-packages/keras/engine/topology.py:1253: UserWarning: The `Merge` layer is deprecated and will be removed after 08/2017. Use instead layers from `keras.layers.merge`, e.g. `add`, `concatenate`, etc.\n",
      "  return cls(**config)\n",
      "W0324 16:30:00.590548 140735559299968 deprecation.py:506] From /Users/riddhi_11/anaconda3/lib/python3.7/site-packages/keras/backend/tensorflow_backend.py:3013: calling dropout (from tensorflow.python.ops.nn_ops) with keep_prob is deprecated and will be removed in a future version.\n",
      "Instructions for updating:\n",
      "Please use `rate` instead of `keep_prob`. Rate should be set to `rate = 1 - keep_prob`.\n"
     ]
    }
   ],
   "source": [
    "# LOAD the model architecture\n",
    "model_architecture = 'model_architecture_after_training_jupyter_test.json'\n",
    "with open(model_architecture, 'r') as f:\n",
    "    vqa_model = model_from_json(f.read())\n",
    "\n",
    "# Load weights into the new model\n",
    "model_weights = 'model_weights_after_training_jupyter_test.h5'\n",
    "vqa_model.load_weights(model_weights);"
   ]
  },
  {
   "cell_type": "code",
   "execution_count": 6,
   "metadata": {},
   "outputs": [
    {
     "name": "stderr",
     "output_type": "stream",
     "text": [
      "/Users/riddhi_11/anaconda3/lib/python3.7/site-packages/ipykernel_launcher.py:32: UserWarning: Update your `Model` call to the Keras 2 API: `Model(inputs=Tensor(\"in..., outputs=Tensor(\"fc...)`\n"
     ]
    }
   ],
   "source": [
    "new_question = create_question_feature_test(\"what is this\")\n",
    "new_image = create_image_feature_test('sample_data_new/test/37.jpg',model)"
   ]
  },
  {
   "cell_type": "code",
   "execution_count": 7,
   "metadata": {},
   "outputs": [
    {
     "name": "stdout",
     "output_type": "stream",
     "text": [
      "1/1 [==============================] - 1s 553ms/step\n",
      "1/1 [==============================] - 0s 61ms/step\n",
      "[2]\n",
      "['yes', '2', 'fruit', 'car', 'Answer', 'no', 'banana', 'bike', 'rose', 'hibiscus', 'green', 'lemon', 'white', 'red', 'jeep', 'leg', 'black', 'apple', 'yellow', 'dog', 'female', 'pear', 'orange']\n",
      "fruit\n"
     ]
    }
   ],
   "source": [
    "result=set_trainy[vqa_model.predict_classes([new_question,new_image])[0]]\n",
    "print(vqa_model.predict_classes([new_question,new_image]))\n",
    "print(set_trainy)\n",
    "print(result)"
   ]
  },
  {
   "cell_type": "code",
   "execution_count": null,
   "metadata": {},
   "outputs": [],
   "source": []
  }
 ],
 "metadata": {
  "kernelspec": {
   "display_name": "Python 3",
   "language": "python",
   "name": "python3"
  },
  "language_info": {
   "codemirror_mode": {
    "name": "ipython",
    "version": 3
   },
   "file_extension": ".py",
   "mimetype": "text/x-python",
   "name": "python",
   "nbconvert_exporter": "python",
   "pygments_lexer": "ipython3",
   "version": "3.7.3"
  }
 },
 "nbformat": 4,
 "nbformat_minor": 2
}
