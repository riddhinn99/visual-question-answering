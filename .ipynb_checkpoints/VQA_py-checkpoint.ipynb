{
 "cells": [
  {
   "cell_type": "code",
   "execution_count": null,
   "metadata": {},
   "outputs": [],
   "source": []
  },
  {
   "cell_type": "code",
   "execution_count": 1,
   "metadata": {},
   "outputs": [
    {
     "name": "stdout",
     "output_type": "stream",
     "text": [
      "Requirement already satisfied: keras==2.1.0 in /Users/riddhi_11/anaconda3/lib/python3.7/site-packages (2.1.0)\r\n",
      "Requirement already satisfied: pyyaml in /Users/riddhi_11/anaconda3/lib/python3.7/site-packages (from keras==2.1.0) (5.1.1)\r\n",
      "Requirement already satisfied: six>=1.9.0 in /Users/riddhi_11/anaconda3/lib/python3.7/site-packages (from keras==2.1.0) (1.12.0)\r\n",
      "Requirement already satisfied: numpy>=1.9.1 in /Users/riddhi_11/anaconda3/lib/python3.7/site-packages (from keras==2.1.0) (1.16.4)\r\n",
      "Requirement already satisfied: scipy>=0.14 in /Users/riddhi_11/anaconda3/lib/python3.7/site-packages (from keras==2.1.0) (1.3.0)\r\n"
     ]
    }
   ],
   "source": [
    "!pip install keras==2.1.0"
   ]
  },
  {
   "cell_type": "code",
   "execution_count": 2,
   "metadata": {},
   "outputs": [
    {
     "name": "stderr",
     "output_type": "stream",
     "text": [
      "Using TensorFlow backend.\n"
     ]
    }
   ],
   "source": [
    "%matplotlib inline\n",
    "import warnings\n",
    "warnings.filterwarnings(\"ignore\")\n",
    "import keras\n",
    "import os, argparse\n",
    "import cv2, spacy, numpy as np\n",
    "from keras.layers import Input, LSTM, Embedding, Dense\n",
    "from keras.applications.vgg16 import VGG16\n",
    "from keras.models import model_from_json\n",
    "from keras.optimizers import SGD\n",
    "from sklearn.externals import joblib\n",
    "from keras import backend as K\n",
    "from keras.utils.vis_utils import plot_model\n",
    "K.set_image_data_format('channels_first')\n",
    "import csv"
   ]
  },
  {
   "cell_type": "code",
   "execution_count": 4,
   "metadata": {},
   "outputs": [],
   "source": [
    "from keras.preprocessing import image\n",
    "from keras.applications import vgg16\n",
    "from keras.models import Model"
   ]
  },
  {
   "cell_type": "code",
   "execution_count": 5,
   "metadata": {},
   "outputs": [
    {
     "name": "stderr",
     "output_type": "stream",
     "text": [
      "WARNING: Logging before flag parsing goes to stderr.\n",
      "W0324 15:50:24.692838 140735559299968 module_wrapper.py:139] From /Users/riddhi_11/anaconda3/lib/python3.7/site-packages/keras/backend/tensorflow_backend.py:63: The name tf.get_default_graph is deprecated. Please use tf.compat.v1.get_default_graph instead.\n",
      "\n",
      "W0324 15:50:24.703495 140735559299968 module_wrapper.py:139] From /Users/riddhi_11/anaconda3/lib/python3.7/site-packages/keras/backend/tensorflow_backend.py:492: The name tf.placeholder is deprecated. Please use tf.compat.v1.placeholder instead.\n",
      "\n",
      "W0324 15:50:24.873875 140735559299968 module_wrapper.py:139] From /Users/riddhi_11/anaconda3/lib/python3.7/site-packages/keras/backend/tensorflow_backend.py:3630: The name tf.random_uniform is deprecated. Please use tf.random.uniform instead.\n",
      "\n",
      "W0324 15:50:24.906625 140735559299968 module_wrapper.py:139] From /Users/riddhi_11/anaconda3/lib/python3.7/site-packages/keras/backend/tensorflow_backend.py:158: The name tf.get_default_session is deprecated. Please use tf.compat.v1.get_default_session instead.\n",
      "\n",
      "W0324 15:50:24.908394 140735559299968 module_wrapper.py:139] From /Users/riddhi_11/anaconda3/lib/python3.7/site-packages/keras/backend/tensorflow_backend.py:163: The name tf.ConfigProto is deprecated. Please use tf.compat.v1.ConfigProto instead.\n",
      "\n",
      "W0324 15:50:24.909402 140735559299968 module_wrapper.py:139] From /Users/riddhi_11/anaconda3/lib/python3.7/site-packages/keras/backend/tensorflow_backend.py:168: The name tf.Session is deprecated. Please use tf.compat.v1.Session instead.\n",
      "\n",
      "W0324 15:50:24.998822 140735559299968 module_wrapper.py:139] From /Users/riddhi_11/anaconda3/lib/python3.7/site-packages/keras/backend/tensorflow_backend.py:172: The name tf.global_variables is deprecated. Please use tf.compat.v1.global_variables instead.\n",
      "\n",
      "W0324 15:50:25.000154 140735559299968 module_wrapper.py:139] From /Users/riddhi_11/anaconda3/lib/python3.7/site-packages/keras/backend/tensorflow_backend.py:181: The name tf.is_variable_initialized is deprecated. Please use tf.compat.v1.is_variable_initialized instead.\n",
      "\n",
      "W0324 15:50:25.111370 140735559299968 module_wrapper.py:139] From /Users/riddhi_11/anaconda3/lib/python3.7/site-packages/keras/backend/tensorflow_backend.py:188: The name tf.variables_initializer is deprecated. Please use tf.compat.v1.variables_initializer instead.\n",
      "\n",
      "W0324 15:50:25.196090 140735559299968 module_wrapper.py:139] From /Users/riddhi_11/anaconda3/lib/python3.7/site-packages/keras/backend/tensorflow_backend.py:3458: The name tf.nn.max_pool is deprecated. Please use tf.nn.max_pool2d instead.\n",
      "\n",
      "W0324 15:50:25.402793 140735559299968 deprecation.py:506] From /Users/riddhi_11/anaconda3/lib/python3.7/site-packages/keras/backend/tensorflow_backend.py:1259: calling reduce_prod_v1 (from tensorflow.python.ops.math_ops) with keep_dims is deprecated and will be removed in a future version.\n",
      "Instructions for updating:\n",
      "keep_dims is deprecated, use keepdims instead\n"
     ]
    }
   ],
   "source": [
    "model = vgg16.VGG16(weights='imagenet', include_top=True)"
   ]
  },
  {
   "cell_type": "code",
   "execution_count": 6,
   "metadata": {},
   "outputs": [],
   "source": [
    "from keras.applications.vgg16 import VGG16, preprocess_input\n",
    "\n",
    "def get_image_features_without_fd(image_file_name,model):\n",
    "    ''' Runs the given image_file to VGG 16 model and returns the \n",
    "    weights (filters) as a 1, 4096 dimension vector '''\n",
    "    img = image.load_img(image_file_name, target_size=(224, 224))\n",
    "    x = image.img_to_array(img)\n",
    "    x = np.expand_dims(x, axis=0)\n",
    "    x = preprocess_input(x)\n",
    "    features = model.predict(x)\n",
    "    model_extractfeatures = Model(input=model.input, output=model.get_layer('fc2').output)\n",
    "    fc2_features = model_extractfeatures.predict(x)\n",
    "    image_features = fc2_features.reshape(4096)\n",
    "    return image_features"
   ]
  },
  {
   "cell_type": "code",
   "execution_count": 7,
   "metadata": {},
   "outputs": [],
   "source": [
    "def get_image_model_without():\n",
    "    ''' Takes the CNN weights file, and returns the VGG model update \n",
    "    with the weights. Requires the file VGG.py inside models/CNN '''\n",
    "    image_model = VGG16(weights='imagenet', include_top=False)\n",
    "    image_model.layers.pop()\n",
    "    image_model.layers.pop()\n",
    "    # this is standard VGG 16 without the last two layers\n",
    "    sgd = SGD(lr=0.1, decay=1e-6, momentum=0.9, nesterov=True)\n",
    "    # one may experiment with \"adam\" optimizer, but the loss function for\n",
    "    # this kind of task is pretty standard\n",
    "    image_model.compile(optimizer=sgd, loss='categorical_crossentropy')\n",
    "    return image_model"
   ]
  },
  {
   "cell_type": "code",
   "execution_count": 8,
   "metadata": {},
   "outputs": [
    {
     "name": "stderr",
     "output_type": "stream",
     "text": [
      "W0324 15:51:09.998320 140735559299968 module_wrapper.py:139] From /Users/riddhi_11/anaconda3/lib/python3.7/site-packages/keras/optimizers.py:711: The name tf.train.Optimizer is deprecated. Please use tf.compat.v1.train.Optimizer instead.\n",
      "\n",
      "W0324 15:51:10.004201 140735559299968 deprecation.py:506] From /Users/riddhi_11/anaconda3/lib/python3.7/site-packages/keras/backend/tensorflow_backend.py:2880: calling reduce_sum_v1 (from tensorflow.python.ops.math_ops) with keep_dims is deprecated and will be removed in a future version.\n",
      "Instructions for updating:\n",
      "keep_dims is deprecated, use keepdims instead\n",
      "W0324 15:51:10.015716 140735559299968 module_wrapper.py:139] From /Users/riddhi_11/anaconda3/lib/python3.7/site-packages/keras/backend/tensorflow_backend.py:2884: The name tf.log is deprecated. Please use tf.math.log instead.\n",
      "\n"
     ]
    }
   ],
   "source": [
    "vgg_without = get_image_model_without()"
   ]
  },
  {
   "cell_type": "code",
   "execution_count": 9,
   "metadata": {},
   "outputs": [],
   "source": [
    "def get_question_features_without_fd(question):\n",
    "    ''' For a given question, a unicode string, returns the time series vector\n",
    "    with each word (token) transformed into a 300 dimension representation\n",
    "    calculated using Glove Vector '''\n",
    "    word_embeddings = spacy.load('en_core_web_md')\n",
    "    tokens = word_embeddings(question)\n",
    "    question_tensor = np.zeros((30, 300))\n",
    "    for j in range(len(tokens)):\n",
    "        question_tensor[j,:] = tokens[j].vector\n",
    "    return question_tensor"
   ]
  },
  {
   "cell_type": "code",
   "execution_count": 10,
   "metadata": {},
   "outputs": [],
   "source": [
    "from keras.preprocessing import image\n",
    "from keras.applications import vgg16\n",
    "from keras.models import Model\n",
    "from keras.applications.vgg16 import VGG16, preprocess_input\n",
    "model = vgg16.VGG16(weights='imagenet', include_top=True)"
   ]
  },
  {
   "cell_type": "code",
   "execution_count": 11,
   "metadata": {},
   "outputs": [],
   "source": [
    "\n",
    "def get_image_features_without_fd(image_file_name,model):\n",
    "    ''' Runs the given image_file to VGG 16 model and returns the \n",
    "    weights (filters) as a 1, 4096 dimension vector '''\n",
    "    img = image.load_img(image_file_name, target_size=(224, 224))\n",
    "    x = image.img_to_array(img)\n",
    "    x = np.expand_dims(x, axis=0)\n",
    "    x = preprocess_input(x)\n",
    "    features = model.predict(x)\n",
    "    model_extractfeatures = Model(input=model.input, output=model.get_layer('fc2').output)\n",
    "    fc2_features = model_extractfeatures.predict(x)\n",
    "    image_features = fc2_features.reshape(4096)\n",
    "    return image_features"
   ]
  },
  {
   "cell_type": "code",
   "execution_count": 12,
   "metadata": {},
   "outputs": [],
   "source": [
    "def get_VQA_model():\n",
    "    ''' Given the VQA model and its weights, compiles and returns the model '''\n",
    "\n",
    "    # thanks the keras function for loading a model from JSON, this becomes\n",
    "    # very easy to understand and work. Alternative would be to load model\n",
    "    # from binary like cPickle but then model would be obfuscated to users\n",
    "    with open('our_model_final.json','r') as f:\n",
    "      vqa_model = keras.models.model_from_json(f.read())\n",
    "    # vqa_model.load_weights(VQA_weights_file_name)\n",
    "    vqa_model.compile(loss='categorical_crossentropy', optimizer='rmsprop')\n",
    "    return vqa_model"
   ]
  },
  {
   "cell_type": "code",
   "execution_count": 13,
   "metadata": {},
   "outputs": [
    {
     "name": "stderr",
     "output_type": "stream",
     "text": [
      "W0324 15:59:43.801305 140735559299968 deprecation.py:506] From /Users/riddhi_11/anaconda3/lib/python3.7/site-packages/keras/backend/tensorflow_backend.py:3013: calling dropout (from tensorflow.python.ops.nn_ops) with keep_prob is deprecated and will be removed in a future version.\n",
      "Instructions for updating:\n",
      "Please use `rate` instead of `keep_prob`. Rate should be set to `rate = 1 - keep_prob`.\n"
     ]
    },
    {
     "name": "stdout",
     "output_type": "stream",
     "text": [
      "_________________________________________________________________\n",
      "Layer (type)                 Output Shape              Param #   \n",
      "=================================================================\n",
      "merge_2 (Merge)              (None, 4608)              0         \n",
      "_________________________________________________________________\n",
      "dense_5 (Dense)              (None, 1024)              4719616   \n",
      "_________________________________________________________________\n",
      "activation_5 (Activation)    (None, 1024)              0         \n",
      "_________________________________________________________________\n",
      "dropout_4 (Dropout)          (None, 1024)              0         \n",
      "_________________________________________________________________\n",
      "dense_6 (Dense)              (None, 1024)              1049600   \n",
      "_________________________________________________________________\n",
      "activation_6 (Activation)    (None, 1024)              0         \n",
      "_________________________________________________________________\n",
      "dropout_5 (Dropout)          (None, 1024)              0         \n",
      "_________________________________________________________________\n",
      "dense_7 (Dense)              (None, 1024)              1049600   \n",
      "_________________________________________________________________\n",
      "activation_7 (Activation)    (None, 1024)              0         \n",
      "_________________________________________________________________\n",
      "dropout_6 (Dropout)          (None, 1024)              0         \n",
      "_________________________________________________________________\n",
      "dense_1 (Dense)              (None, 22)                22550     \n",
      "=================================================================\n",
      "Total params: 12,704,790\n",
      "Trainable params: 12,704,790\n",
      "Non-trainable params: 0\n",
      "_________________________________________________________________\n"
     ]
    }
   ],
   "source": [
    "our_vqa_model = get_VQA_model()\n",
    "our_vqa_model.summary()"
   ]
  },
  {
   "cell_type": "code",
   "execution_count": 13,
   "metadata": {},
   "outputs": [
    {
     "name": "stdout",
     "output_type": "stream",
     "text": [
      "Requirement already satisfied: en_core_web_md==2.2.5 from https://github.com/explosion/spacy-models/releases/download/en_core_web_md-2.2.5/en_core_web_md-2.2.5.tar.gz#egg=en_core_web_md==2.2.5 in /Users/riddhi_11/anaconda3/lib/python3.7/site-packages (2.2.5)\n",
      "Requirement already satisfied: spacy>=2.2.2 in /Users/riddhi_11/anaconda3/lib/python3.7/site-packages (from en_core_web_md==2.2.5) (2.2.4)\n",
      "Requirement already satisfied: thinc==7.4.0 in /Users/riddhi_11/anaconda3/lib/python3.7/site-packages (from spacy>=2.2.2->en_core_web_md==2.2.5) (7.4.0)\n",
      "Requirement already satisfied: plac<1.2.0,>=0.9.6 in /Users/riddhi_11/anaconda3/lib/python3.7/site-packages (from spacy>=2.2.2->en_core_web_md==2.2.5) (1.1.3)\n",
      "Requirement already satisfied: wasabi<1.1.0,>=0.4.0 in /Users/riddhi_11/anaconda3/lib/python3.7/site-packages (from spacy>=2.2.2->en_core_web_md==2.2.5) (0.6.0)\n",
      "Requirement already satisfied: blis<0.5.0,>=0.4.0 in /Users/riddhi_11/anaconda3/lib/python3.7/site-packages (from spacy>=2.2.2->en_core_web_md==2.2.5) (0.4.1)\n",
      "Requirement already satisfied: srsly<1.1.0,>=1.0.2 in /Users/riddhi_11/anaconda3/lib/python3.7/site-packages (from spacy>=2.2.2->en_core_web_md==2.2.5) (1.0.2)\n",
      "Requirement already satisfied: setuptools in /Users/riddhi_11/anaconda3/lib/python3.7/site-packages (from spacy>=2.2.2->en_core_web_md==2.2.5) (41.0.1)\n",
      "Requirement already satisfied: cymem<2.1.0,>=2.0.2 in /Users/riddhi_11/anaconda3/lib/python3.7/site-packages (from spacy>=2.2.2->en_core_web_md==2.2.5) (2.0.3)\n",
      "Requirement already satisfied: murmurhash<1.1.0,>=0.28.0 in /Users/riddhi_11/anaconda3/lib/python3.7/site-packages (from spacy>=2.2.2->en_core_web_md==2.2.5) (1.0.2)\n",
      "Requirement already satisfied: catalogue<1.1.0,>=0.0.7 in /Users/riddhi_11/anaconda3/lib/python3.7/site-packages (from spacy>=2.2.2->en_core_web_md==2.2.5) (1.0.0)\n",
      "Requirement already satisfied: numpy>=1.15.0 in /Users/riddhi_11/anaconda3/lib/python3.7/site-packages (from spacy>=2.2.2->en_core_web_md==2.2.5) (1.16.4)\n",
      "Requirement already satisfied: requests<3.0.0,>=2.13.0 in /Users/riddhi_11/anaconda3/lib/python3.7/site-packages (from spacy>=2.2.2->en_core_web_md==2.2.5) (2.22.0)\n",
      "Requirement already satisfied: tqdm<5.0.0,>=4.38.0 in /Users/riddhi_11/anaconda3/lib/python3.7/site-packages (from spacy>=2.2.2->en_core_web_md==2.2.5) (4.43.0)\n",
      "Requirement already satisfied: preshed<3.1.0,>=3.0.2 in /Users/riddhi_11/anaconda3/lib/python3.7/site-packages (from spacy>=2.2.2->en_core_web_md==2.2.5) (3.0.2)\n",
      "Requirement already satisfied: importlib-metadata>=0.20; python_version < \"3.8\" in /Users/riddhi_11/anaconda3/lib/python3.7/site-packages (from catalogue<1.1.0,>=0.0.7->spacy>=2.2.2->en_core_web_md==2.2.5) (1.5.0)\n",
      "Requirement already satisfied: idna<2.9,>=2.5 in /Users/riddhi_11/anaconda3/lib/python3.7/site-packages (from requests<3.0.0,>=2.13.0->spacy>=2.2.2->en_core_web_md==2.2.5) (2.8)\n",
      "Requirement already satisfied: urllib3!=1.25.0,!=1.25.1,<1.26,>=1.21.1 in /Users/riddhi_11/anaconda3/lib/python3.7/site-packages (from requests<3.0.0,>=2.13.0->spacy>=2.2.2->en_core_web_md==2.2.5) (1.24.2)\n",
      "Requirement already satisfied: certifi>=2017.4.17 in /Users/riddhi_11/anaconda3/lib/python3.7/site-packages (from requests<3.0.0,>=2.13.0->spacy>=2.2.2->en_core_web_md==2.2.5) (2019.6.16)\n",
      "Requirement already satisfied: chardet<3.1.0,>=3.0.2 in /Users/riddhi_11/anaconda3/lib/python3.7/site-packages (from requests<3.0.0,>=2.13.0->spacy>=2.2.2->en_core_web_md==2.2.5) (3.0.4)\n",
      "Requirement already satisfied: zipp>=0.5 in /Users/riddhi_11/anaconda3/lib/python3.7/site-packages (from importlib-metadata>=0.20; python_version < \"3.8\"->catalogue<1.1.0,>=0.0.7->spacy>=2.2.2->en_core_web_md==2.2.5) (0.5.1)\n",
      "\u001b[38;5;2m✔ Download and installation successful\u001b[0m\n",
      "You can now load the model via spacy.load('en_core_web_md')\n"
     ]
    }
   ],
   "source": [
    "!python -m spacy download en_core_web_md"
   ]
  },
  {
   "cell_type": "code",
   "execution_count": 14,
   "metadata": {},
   "outputs": [
    {
     "name": "stdout",
     "output_type": "stream",
     "text": [
      "\u001b[38;5;2m✔ Download and installation successful\u001b[0m\n",
      "You can now load the model via spacy.load('en_core_web_md')\n"
     ]
    }
   ],
   "source": [
    "import spacy.cli\n",
    "spacy.cli.download(\"en_core_web_md\")"
   ]
  },
  {
   "cell_type": "code",
   "execution_count": 15,
   "metadata": {},
   "outputs": [],
   "source": [
    "word_embeddings = spacy.load('en_core_web_md')"
   ]
  },
  {
   "cell_type": "code",
   "execution_count": 16,
   "metadata": {},
   "outputs": [],
   "source": [
    "\n",
    "def get_question_features_without_fd(question,word_embeddings):\n",
    "    ''' For a given question, a unicode string, returns the time series vector\n",
    "    with each word (token) transformed into a 300 dimension representation\n",
    "    calculated using Glove Vector '''\n",
    "    tokens = word_embeddings(question)\n",
    "    question_tensor = np.zeros((30, 300))\n",
    "    for j in range(len(tokens)):\n",
    "        question_tensor[j,:] = tokens[j].vector\n",
    "    return question_tensor"
   ]
  },
  {
   "cell_type": "code",
   "execution_count": 17,
   "metadata": {},
   "outputs": [],
   "source": [
    "def create_image_feature_test(image_path,model):\n",
    "  image_features = get_image_features_without_fd(image_path,model)\n",
    "  image_feature_processed = np.array(image_features)\n",
    "  image_feature_processed = image_feature_processed.reshape((1,image_feature_processed.shape[0]))\n",
    "  return image_feature_processed"
   ]
  },
  {
   "cell_type": "code",
   "execution_count": 18,
   "metadata": {},
   "outputs": [],
   "source": [
    "new_image = create_image_feature_test('sample_data_new/7.jpg',model)"
   ]
  },
  {
   "cell_type": "code",
   "execution_count": 22,
   "metadata": {},
   "outputs": [],
   "source": [
    "new_image2 = create_image_feature_test('sample_data_new/car2.jpg',model)"
   ]
  },
  {
   "cell_type": "code",
   "execution_count": 24,
   "metadata": {},
   "outputs": [],
   "source": [
    "new_image3 = create_image_feature_test('car/2.jpg',model)"
   ]
  },
  {
   "cell_type": "code",
   "execution_count": 19,
   "metadata": {},
   "outputs": [],
   "source": [
    "def create_question_feature_test(text):\n",
    "  question_feature=get_question_features_without_fd(text,word_embeddings)\n",
    "  question_feature_processed = np.array(question_feature)  \n",
    "  question_feature_processed = question_feature_processed.reshape((1,question_feature_processed.shape[0], question_feature_processed.shape[1]))\n",
    "  return question_feature_processed"
   ]
  },
  {
   "cell_type": "code",
   "execution_count": 20,
   "metadata": {},
   "outputs": [
    {
     "name": "stdout",
     "output_type": "stream",
     "text": [
      "['Imageid', 'Question', 'Answer']\n",
      "['1', 'is this plane', 'yes']\n",
      "['1', 'is plane flying', 'no']\n",
      "['2', 'is this plane', 'yes']\n",
      "['2', 'is plane flying', 'yes']\n",
      "['3', 'is this jeep or car', 'jeep']\n",
      "['4', 'is this jeep ', 'yes']\n",
      "['4', 'is jeep yellow or red', 'yellow']\n",
      "['4', 'is it front side of jeep', 'yes']\n",
      "['5', 'is jeep black', 'yes']\n",
      "['6', 'what color is car', 'green']\n",
      "['6', 'is it front sideof car', 'no']\n",
      "['7', 'what color is car', 'red']\n",
      "['7', 'is this car or jeep', 'car']\n",
      "['8', 'what is color of car', 'white']\n",
      "['9', 'is car white', 'yes']\n",
      "['10', 'is bike or car', 'bike']\n",
      "['11', 'is car black', 'yes']\n",
      "['12', 'is this back side of car', 'yes']\n",
      "['13', 'how many cats in this picture', '2']\n",
      "['14', 'is this cat', 'yes']\n",
      "['15', 'is cat sleeping', 'yes']\n",
      "['16', 'is cat sleeping', 'yes']\n",
      "['17', 'what is color of cat', 'black']\n",
      "['18', 'is cat black', 'no']\n",
      "['19', 'is this cat or dog', 'dog']\n",
      "['20', 'is dog black or white', 'black']\n",
      "['21', 'is dog white or black', 'white']\n",
      "['22', 'is this dog', 'yes']\n",
      "['23', 'is dog black or white', 'black']\n",
      "['24', 'is dog fluffy', 'yes']\n",
      "['25', 'is this flower', 'yes']\n",
      "['26', 'is this rose or lotus', 'rose']\n",
      "['27', 'what is flower', 'hibiscus']\n",
      "['28', 'is this flower', 'no']\n",
      "['29', 'is there single flower', 'no']\n",
      "['30', 'is this fruit or vegetable', 'fruit']\n",
      "['31', 'what fruit is this', 'pear']\n",
      "['32', 'what fruit is this', 'lemon']\n",
      "['33', 'is fruit apple', 'yes']\n",
      "['34', 'what fruit is this', 'orange']\n",
      "['35', 'is this apple', 'yes']\n",
      "['36', 'is this orange', 'no']\n",
      "['37', 'what fruit is this', 'apple']\n",
      "['38', 'what fruit is this', 'orange']\n",
      "['39', 'is this banana', 'no']\n",
      "['40', 'is this pear', 'yes']\n",
      "['41', 'is this pineapple', 'yes']\n",
      "['42', 'what is the body part in xray', 'leg']\n",
      "['42', 'is this banana', 'yes']\n",
      "['42', 'what fruit is this', 'banana']\n",
      "['43', 'is this apple', 'no']\n",
      "['44', 'is this strawberry', 'no']\n",
      "['45', 'is this strawberry', 'yes']\n",
      "['46', 'is this person', 'yes']\n",
      "['47', 'is this person male or female', 'female']\n",
      "['48', 'is female smiling', 'yes']\n",
      "['49', 'is this female', 'yes']\n",
      "['50', 'is male smiling', 'yes']\n"
     ]
    },
    {
     "data": {
      "text/plain": [
       "58"
      ]
     },
     "execution_count": 20,
     "metadata": {},
     "output_type": "execute_result"
    }
   ],
   "source": [
    "training_datas = []\n",
    "with open('sample_data_new/training.csv') as csv_file:\n",
    "  csv_reader = csv.reader(csv_file, delimiter=',')\n",
    "  for row in csv_reader:\n",
    "    print (row)\n",
    "    training_datas.append(row)\n",
    "training_datas = training_datas[1:]\n",
    "len(training_datas)"
   ]
  },
  {
   "cell_type": "code",
   "execution_count": 21,
   "metadata": {},
   "outputs": [
    {
     "name": "stdout",
     "output_type": "stream",
     "text": [
      "58\n",
      "['yes', 'no', 'yes', 'yes', 'jeep', 'yes', 'yellow', 'yes', 'yes', 'green', 'no', 'red', 'car', 'white', 'yes', 'bike', 'yes', 'yes', '2', 'yes', 'yes', 'yes', 'black', 'no', 'dog', 'black', 'white', 'yes', 'black', 'yes', 'yes', 'rose', 'hibiscus', 'no', 'no', 'fruit', 'pear', 'lemon', 'yes', 'orange', 'yes', 'no', 'apple', 'orange', 'no', 'yes', 'yes', 'leg', 'yes', 'banana', 'no', 'no', 'yes', 'yes', 'female', 'yes', 'yes', 'yes']\n"
     ]
    }
   ],
   "source": [
    "trainY= []\n",
    "for training_data in training_datas:\n",
    "  img_id,text,output = training_data\n",
    "  trainY.append(output)\n",
    "print(len(trainY))\n",
    "print(trainY)"
   ]
  },
  {
   "cell_type": "code",
   "execution_count": 22,
   "metadata": {},
   "outputs": [
    {
     "name": "stdout",
     "output_type": "stream",
     "text": [
      "[5, 14, 5, 5, 6, 5, 19, 5, 5, 18, 14, 0, 21, 4, 5, 1, 5, 5, 15, 5, 5, 5, 7, 14, 3, 7, 4, 5, 7, 5, 5, 13, 9, 14, 14, 20, 10, 17, 5, 12, 5, 14, 2, 12, 14, 5, 5, 11, 5, 16, 14, 14, 5, 5, 8, 5, 5, 5]\n"
     ]
    }
   ],
   "source": [
    "set_trainy = list(set(trainY))\n",
    "trainY_labels = []\n",
    "for y in trainY:\n",
    "  trainY_labels.append(set_trainy.index(y))\n",
    "print(trainY_labels)"
   ]
  },
  {
   "cell_type": "code",
   "execution_count": 23,
   "metadata": {},
   "outputs": [],
   "source": [
    "trainY_cate = keras.utils.to_categorical(trainY_labels, num_classes=22)"
   ]
  },
  {
   "cell_type": "code",
   "execution_count": 24,
   "metadata": {},
   "outputs": [
    {
     "name": "stdout",
     "output_type": "stream",
     "text": [
      "Processing 1 image\n",
      "Processing 1 image\n",
      "Processing 2 image\n",
      "Processing 2 image\n",
      "Processing 3 image\n",
      "Processing 4 image\n",
      "Processing 4 image\n",
      "Processing 4 image\n",
      "Processing 5 image\n",
      "Processing 6 image\n",
      "Processing 6 image\n",
      "Processing 7 image\n",
      "Processing 7 image\n",
      "Processing 8 image\n",
      "Processing 9 image\n",
      "Processing 10 image\n",
      "Processing 11 image\n",
      "Processing 12 image\n",
      "Processing 13 image\n",
      "Processing 14 image\n",
      "Processing 15 image\n",
      "Processing 16 image\n",
      "Processing 17 image\n",
      "Processing 18 image\n",
      "Processing 19 image\n",
      "Processing 20 image\n",
      "Processing 21 image\n",
      "Processing 22 image\n",
      "Processing 23 image\n",
      "Processing 24 image\n",
      "Processing 25 image\n",
      "Processing 26 image\n",
      "Processing 27 image\n",
      "Processing 28 image\n",
      "Processing 29 image\n",
      "Processing 30 image\n",
      "Processing 31 image\n",
      "Processing 32 image\n",
      "Processing 33 image\n",
      "Processing 34 image\n",
      "Processing 35 image\n",
      "Processing 36 image\n",
      "Processing 37 image\n",
      "Processing 38 image\n",
      "Processing 39 image\n",
      "Processing 40 image\n",
      "Processing 41 image\n",
      "Processing 42 image\n",
      "Processing 42 image\n",
      "Processing 42 image\n",
      "Processing 43 image\n",
      "Processing 44 image\n",
      "Processing 45 image\n",
      "Processing 46 image\n",
      "Processing 47 image\n",
      "Processing 48 image\n",
      "Processing 49 image\n",
      "Processing 50 image\n"
     ]
    },
    {
     "data": {
      "text/plain": [
       "(58, 2)"
      ]
     },
     "execution_count": 24,
     "metadata": {},
     "output_type": "execute_result"
    }
   ],
   "source": [
    "trainX= []\n",
    "for training_data in training_datas:\n",
    "  img_id,text,output = training_data\n",
    "  print(\"Processing {} image\".format(img_id))\n",
    "  image_features = get_image_features_without_fd(\"sample_data_new/{}.jpg\".format(img_id),model)\n",
    "  question_features = get_question_features_without_fd(text,word_embeddings)\n",
    "  trainX.append([question_features,image_features])\n",
    "np.array(trainX).shape"
   ]
  },
  {
   "cell_type": "code",
   "execution_count": 25,
   "metadata": {},
   "outputs": [],
   "source": [
    "question_features_array = []\n",
    "image_features_array = []\n",
    "for x in trainX:\n",
    "  question_features_array.append(x[0])\n",
    "  image_features_array.append(x[1])"
   ]
  },
  {
   "cell_type": "code",
   "execution_count": 26,
   "metadata": {},
   "outputs": [
    {
     "name": "stdout",
     "output_type": "stream",
     "text": [
      "(58, 30, 300)\n",
      "(58, 4096)\n"
     ]
    }
   ],
   "source": [
    "question_features_array = np.array(question_features_array)\n",
    "image_features_array = np.array(image_features_array)\n",
    "print(question_features_array.shape)\n",
    "print(image_features_array.shape)"
   ]
  },
  {
   "cell_type": "code",
   "execution_count": 27,
   "metadata": {},
   "outputs": [
    {
     "name": "stdout",
     "output_type": "stream",
     "text": [
      "58\n",
      "['yes', 'no', 'yes', 'yes', 'jeep', 'yes', 'yellow', 'yes', 'yes', 'green', 'no', 'red', 'car', 'white', 'yes', 'bike', 'yes', 'yes', '2', 'yes', 'yes', 'yes', 'black', 'no', 'dog', 'black', 'white', 'yes', 'black', 'yes', 'yes', 'rose', 'hibiscus', 'no', 'no', 'fruit', 'pear', 'lemon', 'yes', 'orange', 'yes', 'no', 'apple', 'orange', 'no', 'yes', 'yes', 'leg', 'yes', 'banana', 'no', 'no', 'yes', 'yes', 'female', 'yes', 'yes', 'yes']\n"
     ]
    }
   ],
   "source": [
    "trainY= []\n",
    "for training_data in training_datas:\n",
    "  img_id,text,output = training_data\n",
    "  trainY.append(output)\n",
    "print(len(trainY))\n",
    "print(trainY)"
   ]
  },
  {
   "cell_type": "code",
   "execution_count": 28,
   "metadata": {},
   "outputs": [
    {
     "name": "stdout",
     "output_type": "stream",
     "text": [
      "[5, 14, 5, 5, 6, 5, 19, 5, 5, 18, 14, 0, 21, 4, 5, 1, 5, 5, 15, 5, 5, 5, 7, 14, 3, 7, 4, 5, 7, 5, 5, 13, 9, 14, 14, 20, 10, 17, 5, 12, 5, 14, 2, 12, 14, 5, 5, 11, 5, 16, 14, 14, 5, 5, 8, 5, 5, 5]\n"
     ]
    }
   ],
   "source": [
    "set_trainy = list(set(trainY))\n",
    "trainY_labels = []\n",
    "for y in trainY:\n",
    "  trainY_labels.append(set_trainy.index(y))\n",
    "print(trainY_labels)"
   ]
  },
  {
   "cell_type": "code",
   "execution_count": 29,
   "metadata": {},
   "outputs": [],
   "source": [
    "trainY_cate = keras.utils.to_categorical(trainY_labels, num_classes=22)"
   ]
  },
  {
   "cell_type": "code",
   "execution_count": 30,
   "metadata": {},
   "outputs": [
    {
     "name": "stderr",
     "output_type": "stream",
     "text": [
      "W0324 16:02:38.964423 140735559299968 deprecation.py:323] From /Users/riddhi_11/anaconda3/lib/python3.7/site-packages/tensorflow_core/python/ops/math_grad.py:1424: where (from tensorflow.python.ops.array_ops) is deprecated and will be removed in a future version.\n",
      "Instructions for updating:\n",
      "Use tf.where in 2.0, which has the same broadcast rule as np.where\n",
      "W0324 16:02:40.879973 140735559299968 deprecation.py:506] From /Users/riddhi_11/anaconda3/lib/python3.7/site-packages/keras/backend/tensorflow_backend.py:675: calling Constant.__init__ (from tensorflow.python.ops.init_ops) with dtype is deprecated and will be removed in a future version.\n",
      "Instructions for updating:\n",
      "Call initializer instance with the dtype argument instead of passing it to the constructor\n",
      "W0324 16:02:40.945062 140735559299968 module_wrapper.py:139] From /Users/riddhi_11/anaconda3/lib/python3.7/site-packages/keras/backend/tensorflow_backend.py:953: The name tf.assign_add is deprecated. Please use tf.compat.v1.assign_add instead.\n",
      "\n",
      "W0324 16:02:40.953615 140735559299968 module_wrapper.py:139] From /Users/riddhi_11/anaconda3/lib/python3.7/site-packages/keras/backend/tensorflow_backend.py:940: The name tf.assign is deprecated. Please use tf.compat.v1.assign instead.\n",
      "\n"
     ]
    },
    {
     "name": "stdout",
     "output_type": "stream",
     "text": [
      "Epoch 1/30\n",
      "58/58 [==============================] - 18s 314ms/step - loss: 4.4611\n",
      "Epoch 2/30\n",
      "58/58 [==============================] - 11s 182ms/step - loss: 3.7696\n",
      "Epoch 3/30\n",
      "58/58 [==============================] - 12s 206ms/step - loss: 3.7906\n",
      "Epoch 4/30\n",
      "58/58 [==============================] - 11s 189ms/step - loss: 2.8739\n",
      "Epoch 5/30\n",
      "58/58 [==============================] - 10s 176ms/step - loss: 2.2513\n",
      "Epoch 6/30\n",
      "58/58 [==============================] - 11s 185ms/step - loss: 2.3616\n",
      "Epoch 7/30\n",
      "58/58 [==============================] - 12s 206ms/step - loss: 2.5490\n",
      "Epoch 8/30\n",
      "58/58 [==============================] - 11s 192ms/step - loss: 1.9208\n",
      "Epoch 9/30\n",
      "58/58 [==============================] - 12s 206ms/step - loss: 1.9129\n",
      "Epoch 10/30\n",
      "58/58 [==============================] - 11s 191ms/step - loss: 1.7532\n",
      "Epoch 11/30\n",
      "58/58 [==============================] - 10s 175ms/step - loss: 1.6857\n",
      "Epoch 12/30\n",
      "58/58 [==============================] - 11s 183ms/step - loss: 1.7113\n",
      "Epoch 13/30\n",
      "58/58 [==============================] - 10s 179ms/step - loss: 1.3280\n",
      "Epoch 14/30\n",
      "58/58 [==============================] - 10s 179ms/step - loss: 1.3375\n",
      "Epoch 15/30\n",
      "58/58 [==============================] - 12s 210ms/step - loss: 1.3389\n",
      "Epoch 16/30\n",
      "58/58 [==============================] - 11s 192ms/step - loss: 1.5020\n",
      "Epoch 17/30\n",
      "58/58 [==============================] - 11s 193ms/step - loss: 1.2551\n",
      "Epoch 18/30\n",
      "58/58 [==============================] - 10s 180ms/step - loss: 1.1535\n",
      "Epoch 19/30\n",
      "58/58 [==============================] - 13s 221ms/step - loss: 0.8453\n",
      "Epoch 20/30\n",
      "58/58 [==============================] - 12s 201ms/step - loss: 0.8451\n",
      "Epoch 21/30\n",
      "58/58 [==============================] - 11s 182ms/step - loss: 0.9315\n",
      "Epoch 22/30\n",
      "58/58 [==============================] - 10s 175ms/step - loss: 0.9817\n",
      "Epoch 23/30\n",
      "58/58 [==============================] - 11s 184ms/step - loss: 1.0451\n",
      "Epoch 24/30\n",
      "58/58 [==============================] - 12s 199ms/step - loss: 0.9514\n",
      "Epoch 25/30\n",
      "58/58 [==============================] - 10s 168ms/step - loss: 0.8120\n",
      "Epoch 26/30\n",
      "58/58 [==============================] - 12s 209ms/step - loss: 0.9331\n",
      "Epoch 27/30\n",
      "58/58 [==============================] - 10s 177ms/step - loss: 1.0010\n",
      "Epoch 28/30\n",
      "58/58 [==============================] - 11s 182ms/step - loss: 0.6060\n",
      "Epoch 29/30\n",
      "58/58 [==============================] - 11s 186ms/step - loss: 0.7600\n",
      "Epoch 30/30\n",
      "58/58 [==============================] - 10s 171ms/step - loss: 0.5975\n"
     ]
    }
   ],
   "source": [
    "history = our_vqa_model.fit([question_features_array,image_features_array],trainY_cate,5,30)"
   ]
  },
  {
   "cell_type": "code",
   "execution_count": 31,
   "metadata": {},
   "outputs": [],
   "source": [
    "filename = 'model_weights_after_training_jupyter_test.h5'\n",
    "outfile = open(filename,'wb')\n",
    "our_vqa_model.save_weights(filename)"
   ]
  },
  {
   "cell_type": "code",
   "execution_count": 32,
   "metadata": {},
   "outputs": [],
   "source": [
    "# Save the model architecture\n",
    "model_arch = 'model_architecture_after_training_jupyter_test.json'\n",
    "outfile = open(model_arch,'wb')\n",
    "with open(model_arch, 'w') as f:\n",
    "    f.write(our_vqa_model.to_json())\n",
    "    "
   ]
  },
  {
   "cell_type": "code",
   "execution_count": 33,
   "metadata": {},
   "outputs": [
    {
     "data": {
      "image/png": "[encoded data removed]",
      "text/plain": [
       "<Figure size 432x288 with 1 Axes>"
      ]
     },
     "metadata": {
      "needs_background": "light"
     },
     "output_type": "display_data"
    }
   ],
   "source": [
    "import matplotlib.pyplot as plt\n",
    "# summarize history for accuracy\n",
    "plt.plot(history.history['loss'])\n",
    "plt.title('model loss')\n",
    "plt.ylabel('loss')\n",
    "plt.xlabel('epoch')\n",
    "plt.show()"
   ]
  },
  {
   "cell_type": "code",
   "execution_count": 34,
   "metadata": {},
   "outputs": [],
   "source": [
    "# LOAD the model architecture\n",
    "model_arch_read = 'model_architecture_after_training_jupyter_test.json'\n",
    "\n",
    "with open(model_arch_read, 'r') as f:\n",
    "    vqa_model = model_from_json(f.read())\n",
    "\n",
    "# Load weights into the new model\n",
    "vqa_model.load_weights(filename);"
   ]
  },
  {
   "cell_type": "code",
   "execution_count": 41,
   "metadata": {},
   "outputs": [],
   "source": [
    "new_question = create_question_feature_test(\"what is this\")"
   ]
  },
  {
   "cell_type": "code",
   "execution_count": 43,
   "metadata": {},
   "outputs": [],
   "source": [
    "new_image = create_image_feature_test('sample_data_new/test/37.jpg',model)"
   ]
  },
  {
   "cell_type": "code",
   "execution_count": 44,
   "metadata": {},
   "outputs": [
    {
     "name": "stdout",
     "output_type": "stream",
     "text": [
      "1/1 [==============================] - 0s 116ms/step\n",
      "[2]\n"
     ]
    }
   ],
   "source": [
    "print(vqa_model.predict_classes([new_question,new_image]))"
   ]
  },
  {
   "cell_type": "code",
   "execution_count": 45,
   "metadata": {},
   "outputs": [
    {
     "name": "stdout",
     "output_type": "stream",
     "text": [
      "1/1 [==============================] - 0s 67ms/step\n",
      "['red', 'bike', 'apple', 'dog', 'white', 'yes', 'jeep', 'black', 'female', 'hibiscus', 'pear', 'leg', 'orange', 'rose', 'no', '2', 'banana', 'lemon', 'green', 'yellow', 'fruit', 'car']\n"
     ]
    }
   ],
   "source": [
    "result=set_trainy[vqa_model.predict_classes([new_question,new_image])[0]]\n",
    "print(set_trainy)"
   ]
  },
  {
   "cell_type": "code",
   "execution_count": 46,
   "metadata": {},
   "outputs": [
    {
     "name": "stdout",
     "output_type": "stream",
     "text": [
      "apple\n"
     ]
    }
   ],
   "source": [
    "print(result)"
   ]
  },
  {
   "cell_type": "code",
   "execution_count": null,
   "metadata": {},
   "outputs": [],
   "source": []
  }
 ],
 "metadata": {
  "kernelspec": {
   "display_name": "Python 3",
   "language": "python",
   "name": "python3"
  },
  "language_info": {
   "codemirror_mode": {
    "name": "ipython",
    "version": 3
   },
   "file_extension": ".py",
   "mimetype": "text/x-python",
   "name": "python",
   "nbconvert_exporter": "python",
   "pygments_lexer": "ipython3",
   "version": "3.7.3"
  }
 },
 "nbformat": 4,
 "nbformat_minor": 2
}
